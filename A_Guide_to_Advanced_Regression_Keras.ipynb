{
  "nbformat": 4,
  "nbformat_minor": 0,
  "metadata": {
    "colab": {
      "name": "A Guide to Advanced Regression_Keras.ipynb",
      "provenance": [],
      "collapsed_sections": [],
      "mount_file_id": "1eeFKg--FEpJ1JWr-EIxWFXAxXWHW2nkc",
      "authorship_tag": "ABX9TyO2zATa8oLJ7pbmawhtu8mu",
      "include_colab_link": true
    },
    "kernelspec": {
      "name": "python3",
      "display_name": "Python 3"
    },
    "language_info": {
      "name": "python"
    }
  },
  "cells": [
    {
      "cell_type": "markdown",
      "metadata": {
        "id": "view-in-github",
        "colab_type": "text"
      },
      "source": [
        "<a href=\"https://colab.research.google.com/github/michaelcerda/Kaggle-Projects/blob/main/A_Guide_to_Advanced_Regression_Keras.ipynb\" target=\"_parent\"><img src=\"https://colab.research.google.com/assets/colab-badge.svg\" alt=\"Open In Colab\"/></a>"
      ]
    },
    {
      "cell_type": "markdown",
      "metadata": {
        "id": "1G3vDG6A58lg"
      },
      "source": [
        "### Import libraries"
      ]
    },
    {
      "cell_type": "code",
      "metadata": {
        "id": "7m0Qy6hG5yuk"
      },
      "source": [
        "import pandas as pd\n",
        "import numpy as np\n",
        "import matplotlib.pyplot as plt\n",
        "import matplotlib_inline\n",
        "import seaborn as sns\n",
        "from scipy import stats\n",
        "from scipy.stats import norm, skew"
      ],
      "execution_count": null,
      "outputs": []
    },
    {
      "cell_type": "markdown",
      "metadata": {
        "id": "2IlNEvQ96Bdo"
      },
      "source": [
        "### Read the Train Data"
      ]
    },
    {
      "cell_type": "code",
      "metadata": {
        "id": "UVr8vuR76l07"
      },
      "source": [
        "train = pd.read_csv('/content/drive/MyDrive/Ames Housing/train.csv')"
      ],
      "execution_count": null,
      "outputs": []
    },
    {
      "cell_type": "code",
      "metadata": {
        "id": "yMC0ol4G6zTz",
        "colab": {
          "base_uri": "https://localhost:8080/",
          "height": 256
        },
        "outputId": "eaf2ebd0-7d47-4915-93fd-f8ac2639c3d6"
      },
      "source": [
        "train.head()"
      ],
      "execution_count": null,
      "outputs": [
        {
          "output_type": "execute_result",
          "data": {
            "text/html": [
              "<div>\n",
              "<style scoped>\n",
              "    .dataframe tbody tr th:only-of-type {\n",
              "        vertical-align: middle;\n",
              "    }\n",
              "\n",
              "    .dataframe tbody tr th {\n",
              "        vertical-align: top;\n",
              "    }\n",
              "\n",
              "    .dataframe thead th {\n",
              "        text-align: right;\n",
              "    }\n",
              "</style>\n",
              "<table border=\"1\" class=\"dataframe\">\n",
              "  <thead>\n",
              "    <tr style=\"text-align: right;\">\n",
              "      <th></th>\n",
              "      <th>Id</th>\n",
              "      <th>MSSubClass</th>\n",
              "      <th>MSZoning</th>\n",
              "      <th>LotFrontage</th>\n",
              "      <th>LotArea</th>\n",
              "      <th>Street</th>\n",
              "      <th>Alley</th>\n",
              "      <th>LotShape</th>\n",
              "      <th>LandContour</th>\n",
              "      <th>Utilities</th>\n",
              "      <th>LotConfig</th>\n",
              "      <th>LandSlope</th>\n",
              "      <th>Neighborhood</th>\n",
              "      <th>Condition1</th>\n",
              "      <th>Condition2</th>\n",
              "      <th>BldgType</th>\n",
              "      <th>HouseStyle</th>\n",
              "      <th>OverallQual</th>\n",
              "      <th>OverallCond</th>\n",
              "      <th>YearBuilt</th>\n",
              "      <th>YearRemodAdd</th>\n",
              "      <th>RoofStyle</th>\n",
              "      <th>RoofMatl</th>\n",
              "      <th>Exterior1st</th>\n",
              "      <th>Exterior2nd</th>\n",
              "      <th>MasVnrType</th>\n",
              "      <th>MasVnrArea</th>\n",
              "      <th>ExterQual</th>\n",
              "      <th>ExterCond</th>\n",
              "      <th>Foundation</th>\n",
              "      <th>BsmtQual</th>\n",
              "      <th>BsmtCond</th>\n",
              "      <th>BsmtExposure</th>\n",
              "      <th>BsmtFinType1</th>\n",
              "      <th>BsmtFinSF1</th>\n",
              "      <th>BsmtFinType2</th>\n",
              "      <th>BsmtFinSF2</th>\n",
              "      <th>BsmtUnfSF</th>\n",
              "      <th>TotalBsmtSF</th>\n",
              "      <th>Heating</th>\n",
              "      <th>...</th>\n",
              "      <th>CentralAir</th>\n",
              "      <th>Electrical</th>\n",
              "      <th>1stFlrSF</th>\n",
              "      <th>2ndFlrSF</th>\n",
              "      <th>LowQualFinSF</th>\n",
              "      <th>GrLivArea</th>\n",
              "      <th>BsmtFullBath</th>\n",
              "      <th>BsmtHalfBath</th>\n",
              "      <th>FullBath</th>\n",
              "      <th>HalfBath</th>\n",
              "      <th>BedroomAbvGr</th>\n",
              "      <th>KitchenAbvGr</th>\n",
              "      <th>KitchenQual</th>\n",
              "      <th>TotRmsAbvGrd</th>\n",
              "      <th>Functional</th>\n",
              "      <th>Fireplaces</th>\n",
              "      <th>FireplaceQu</th>\n",
              "      <th>GarageType</th>\n",
              "      <th>GarageYrBlt</th>\n",
              "      <th>GarageFinish</th>\n",
              "      <th>GarageCars</th>\n",
              "      <th>GarageArea</th>\n",
              "      <th>GarageQual</th>\n",
              "      <th>GarageCond</th>\n",
              "      <th>PavedDrive</th>\n",
              "      <th>WoodDeckSF</th>\n",
              "      <th>OpenPorchSF</th>\n",
              "      <th>EnclosedPorch</th>\n",
              "      <th>3SsnPorch</th>\n",
              "      <th>ScreenPorch</th>\n",
              "      <th>PoolArea</th>\n",
              "      <th>PoolQC</th>\n",
              "      <th>Fence</th>\n",
              "      <th>MiscFeature</th>\n",
              "      <th>MiscVal</th>\n",
              "      <th>MoSold</th>\n",
              "      <th>YrSold</th>\n",
              "      <th>SaleType</th>\n",
              "      <th>SaleCondition</th>\n",
              "      <th>SalePrice</th>\n",
              "    </tr>\n",
              "  </thead>\n",
              "  <tbody>\n",
              "    <tr>\n",
              "      <th>0</th>\n",
              "      <td>1</td>\n",
              "      <td>60</td>\n",
              "      <td>RL</td>\n",
              "      <td>65.0</td>\n",
              "      <td>8450</td>\n",
              "      <td>Pave</td>\n",
              "      <td>NaN</td>\n",
              "      <td>Reg</td>\n",
              "      <td>Lvl</td>\n",
              "      <td>AllPub</td>\n",
              "      <td>Inside</td>\n",
              "      <td>Gtl</td>\n",
              "      <td>CollgCr</td>\n",
              "      <td>Norm</td>\n",
              "      <td>Norm</td>\n",
              "      <td>1Fam</td>\n",
              "      <td>2Story</td>\n",
              "      <td>7</td>\n",
              "      <td>5</td>\n",
              "      <td>2003</td>\n",
              "      <td>2003</td>\n",
              "      <td>Gable</td>\n",
              "      <td>CompShg</td>\n",
              "      <td>VinylSd</td>\n",
              "      <td>VinylSd</td>\n",
              "      <td>BrkFace</td>\n",
              "      <td>196.0</td>\n",
              "      <td>Gd</td>\n",
              "      <td>TA</td>\n",
              "      <td>PConc</td>\n",
              "      <td>Gd</td>\n",
              "      <td>TA</td>\n",
              "      <td>No</td>\n",
              "      <td>GLQ</td>\n",
              "      <td>706</td>\n",
              "      <td>Unf</td>\n",
              "      <td>0</td>\n",
              "      <td>150</td>\n",
              "      <td>856</td>\n",
              "      <td>GasA</td>\n",
              "      <td>...</td>\n",
              "      <td>Y</td>\n",
              "      <td>SBrkr</td>\n",
              "      <td>856</td>\n",
              "      <td>854</td>\n",
              "      <td>0</td>\n",
              "      <td>1710</td>\n",
              "      <td>1</td>\n",
              "      <td>0</td>\n",
              "      <td>2</td>\n",
              "      <td>1</td>\n",
              "      <td>3</td>\n",
              "      <td>1</td>\n",
              "      <td>Gd</td>\n",
              "      <td>8</td>\n",
              "      <td>Typ</td>\n",
              "      <td>0</td>\n",
              "      <td>NaN</td>\n",
              "      <td>Attchd</td>\n",
              "      <td>2003.0</td>\n",
              "      <td>RFn</td>\n",
              "      <td>2</td>\n",
              "      <td>548</td>\n",
              "      <td>TA</td>\n",
              "      <td>TA</td>\n",
              "      <td>Y</td>\n",
              "      <td>0</td>\n",
              "      <td>61</td>\n",
              "      <td>0</td>\n",
              "      <td>0</td>\n",
              "      <td>0</td>\n",
              "      <td>0</td>\n",
              "      <td>NaN</td>\n",
              "      <td>NaN</td>\n",
              "      <td>NaN</td>\n",
              "      <td>0</td>\n",
              "      <td>2</td>\n",
              "      <td>2008</td>\n",
              "      <td>WD</td>\n",
              "      <td>Normal</td>\n",
              "      <td>208500</td>\n",
              "    </tr>\n",
              "    <tr>\n",
              "      <th>1</th>\n",
              "      <td>2</td>\n",
              "      <td>20</td>\n",
              "      <td>RL</td>\n",
              "      <td>80.0</td>\n",
              "      <td>9600</td>\n",
              "      <td>Pave</td>\n",
              "      <td>NaN</td>\n",
              "      <td>Reg</td>\n",
              "      <td>Lvl</td>\n",
              "      <td>AllPub</td>\n",
              "      <td>FR2</td>\n",
              "      <td>Gtl</td>\n",
              "      <td>Veenker</td>\n",
              "      <td>Feedr</td>\n",
              "      <td>Norm</td>\n",
              "      <td>1Fam</td>\n",
              "      <td>1Story</td>\n",
              "      <td>6</td>\n",
              "      <td>8</td>\n",
              "      <td>1976</td>\n",
              "      <td>1976</td>\n",
              "      <td>Gable</td>\n",
              "      <td>CompShg</td>\n",
              "      <td>MetalSd</td>\n",
              "      <td>MetalSd</td>\n",
              "      <td>None</td>\n",
              "      <td>0.0</td>\n",
              "      <td>TA</td>\n",
              "      <td>TA</td>\n",
              "      <td>CBlock</td>\n",
              "      <td>Gd</td>\n",
              "      <td>TA</td>\n",
              "      <td>Gd</td>\n",
              "      <td>ALQ</td>\n",
              "      <td>978</td>\n",
              "      <td>Unf</td>\n",
              "      <td>0</td>\n",
              "      <td>284</td>\n",
              "      <td>1262</td>\n",
              "      <td>GasA</td>\n",
              "      <td>...</td>\n",
              "      <td>Y</td>\n",
              "      <td>SBrkr</td>\n",
              "      <td>1262</td>\n",
              "      <td>0</td>\n",
              "      <td>0</td>\n",
              "      <td>1262</td>\n",
              "      <td>0</td>\n",
              "      <td>1</td>\n",
              "      <td>2</td>\n",
              "      <td>0</td>\n",
              "      <td>3</td>\n",
              "      <td>1</td>\n",
              "      <td>TA</td>\n",
              "      <td>6</td>\n",
              "      <td>Typ</td>\n",
              "      <td>1</td>\n",
              "      <td>TA</td>\n",
              "      <td>Attchd</td>\n",
              "      <td>1976.0</td>\n",
              "      <td>RFn</td>\n",
              "      <td>2</td>\n",
              "      <td>460</td>\n",
              "      <td>TA</td>\n",
              "      <td>TA</td>\n",
              "      <td>Y</td>\n",
              "      <td>298</td>\n",
              "      <td>0</td>\n",
              "      <td>0</td>\n",
              "      <td>0</td>\n",
              "      <td>0</td>\n",
              "      <td>0</td>\n",
              "      <td>NaN</td>\n",
              "      <td>NaN</td>\n",
              "      <td>NaN</td>\n",
              "      <td>0</td>\n",
              "      <td>5</td>\n",
              "      <td>2007</td>\n",
              "      <td>WD</td>\n",
              "      <td>Normal</td>\n",
              "      <td>181500</td>\n",
              "    </tr>\n",
              "    <tr>\n",
              "      <th>2</th>\n",
              "      <td>3</td>\n",
              "      <td>60</td>\n",
              "      <td>RL</td>\n",
              "      <td>68.0</td>\n",
              "      <td>11250</td>\n",
              "      <td>Pave</td>\n",
              "      <td>NaN</td>\n",
              "      <td>IR1</td>\n",
              "      <td>Lvl</td>\n",
              "      <td>AllPub</td>\n",
              "      <td>Inside</td>\n",
              "      <td>Gtl</td>\n",
              "      <td>CollgCr</td>\n",
              "      <td>Norm</td>\n",
              "      <td>Norm</td>\n",
              "      <td>1Fam</td>\n",
              "      <td>2Story</td>\n",
              "      <td>7</td>\n",
              "      <td>5</td>\n",
              "      <td>2001</td>\n",
              "      <td>2002</td>\n",
              "      <td>Gable</td>\n",
              "      <td>CompShg</td>\n",
              "      <td>VinylSd</td>\n",
              "      <td>VinylSd</td>\n",
              "      <td>BrkFace</td>\n",
              "      <td>162.0</td>\n",
              "      <td>Gd</td>\n",
              "      <td>TA</td>\n",
              "      <td>PConc</td>\n",
              "      <td>Gd</td>\n",
              "      <td>TA</td>\n",
              "      <td>Mn</td>\n",
              "      <td>GLQ</td>\n",
              "      <td>486</td>\n",
              "      <td>Unf</td>\n",
              "      <td>0</td>\n",
              "      <td>434</td>\n",
              "      <td>920</td>\n",
              "      <td>GasA</td>\n",
              "      <td>...</td>\n",
              "      <td>Y</td>\n",
              "      <td>SBrkr</td>\n",
              "      <td>920</td>\n",
              "      <td>866</td>\n",
              "      <td>0</td>\n",
              "      <td>1786</td>\n",
              "      <td>1</td>\n",
              "      <td>0</td>\n",
              "      <td>2</td>\n",
              "      <td>1</td>\n",
              "      <td>3</td>\n",
              "      <td>1</td>\n",
              "      <td>Gd</td>\n",
              "      <td>6</td>\n",
              "      <td>Typ</td>\n",
              "      <td>1</td>\n",
              "      <td>TA</td>\n",
              "      <td>Attchd</td>\n",
              "      <td>2001.0</td>\n",
              "      <td>RFn</td>\n",
              "      <td>2</td>\n",
              "      <td>608</td>\n",
              "      <td>TA</td>\n",
              "      <td>TA</td>\n",
              "      <td>Y</td>\n",
              "      <td>0</td>\n",
              "      <td>42</td>\n",
              "      <td>0</td>\n",
              "      <td>0</td>\n",
              "      <td>0</td>\n",
              "      <td>0</td>\n",
              "      <td>NaN</td>\n",
              "      <td>NaN</td>\n",
              "      <td>NaN</td>\n",
              "      <td>0</td>\n",
              "      <td>9</td>\n",
              "      <td>2008</td>\n",
              "      <td>WD</td>\n",
              "      <td>Normal</td>\n",
              "      <td>223500</td>\n",
              "    </tr>\n",
              "    <tr>\n",
              "      <th>3</th>\n",
              "      <td>4</td>\n",
              "      <td>70</td>\n",
              "      <td>RL</td>\n",
              "      <td>60.0</td>\n",
              "      <td>9550</td>\n",
              "      <td>Pave</td>\n",
              "      <td>NaN</td>\n",
              "      <td>IR1</td>\n",
              "      <td>Lvl</td>\n",
              "      <td>AllPub</td>\n",
              "      <td>Corner</td>\n",
              "      <td>Gtl</td>\n",
              "      <td>Crawfor</td>\n",
              "      <td>Norm</td>\n",
              "      <td>Norm</td>\n",
              "      <td>1Fam</td>\n",
              "      <td>2Story</td>\n",
              "      <td>7</td>\n",
              "      <td>5</td>\n",
              "      <td>1915</td>\n",
              "      <td>1970</td>\n",
              "      <td>Gable</td>\n",
              "      <td>CompShg</td>\n",
              "      <td>Wd Sdng</td>\n",
              "      <td>Wd Shng</td>\n",
              "      <td>None</td>\n",
              "      <td>0.0</td>\n",
              "      <td>TA</td>\n",
              "      <td>TA</td>\n",
              "      <td>BrkTil</td>\n",
              "      <td>TA</td>\n",
              "      <td>Gd</td>\n",
              "      <td>No</td>\n",
              "      <td>ALQ</td>\n",
              "      <td>216</td>\n",
              "      <td>Unf</td>\n",
              "      <td>0</td>\n",
              "      <td>540</td>\n",
              "      <td>756</td>\n",
              "      <td>GasA</td>\n",
              "      <td>...</td>\n",
              "      <td>Y</td>\n",
              "      <td>SBrkr</td>\n",
              "      <td>961</td>\n",
              "      <td>756</td>\n",
              "      <td>0</td>\n",
              "      <td>1717</td>\n",
              "      <td>1</td>\n",
              "      <td>0</td>\n",
              "      <td>1</td>\n",
              "      <td>0</td>\n",
              "      <td>3</td>\n",
              "      <td>1</td>\n",
              "      <td>Gd</td>\n",
              "      <td>7</td>\n",
              "      <td>Typ</td>\n",
              "      <td>1</td>\n",
              "      <td>Gd</td>\n",
              "      <td>Detchd</td>\n",
              "      <td>1998.0</td>\n",
              "      <td>Unf</td>\n",
              "      <td>3</td>\n",
              "      <td>642</td>\n",
              "      <td>TA</td>\n",
              "      <td>TA</td>\n",
              "      <td>Y</td>\n",
              "      <td>0</td>\n",
              "      <td>35</td>\n",
              "      <td>272</td>\n",
              "      <td>0</td>\n",
              "      <td>0</td>\n",
              "      <td>0</td>\n",
              "      <td>NaN</td>\n",
              "      <td>NaN</td>\n",
              "      <td>NaN</td>\n",
              "      <td>0</td>\n",
              "      <td>2</td>\n",
              "      <td>2006</td>\n",
              "      <td>WD</td>\n",
              "      <td>Abnorml</td>\n",
              "      <td>140000</td>\n",
              "    </tr>\n",
              "    <tr>\n",
              "      <th>4</th>\n",
              "      <td>5</td>\n",
              "      <td>60</td>\n",
              "      <td>RL</td>\n",
              "      <td>84.0</td>\n",
              "      <td>14260</td>\n",
              "      <td>Pave</td>\n",
              "      <td>NaN</td>\n",
              "      <td>IR1</td>\n",
              "      <td>Lvl</td>\n",
              "      <td>AllPub</td>\n",
              "      <td>FR2</td>\n",
              "      <td>Gtl</td>\n",
              "      <td>NoRidge</td>\n",
              "      <td>Norm</td>\n",
              "      <td>Norm</td>\n",
              "      <td>1Fam</td>\n",
              "      <td>2Story</td>\n",
              "      <td>8</td>\n",
              "      <td>5</td>\n",
              "      <td>2000</td>\n",
              "      <td>2000</td>\n",
              "      <td>Gable</td>\n",
              "      <td>CompShg</td>\n",
              "      <td>VinylSd</td>\n",
              "      <td>VinylSd</td>\n",
              "      <td>BrkFace</td>\n",
              "      <td>350.0</td>\n",
              "      <td>Gd</td>\n",
              "      <td>TA</td>\n",
              "      <td>PConc</td>\n",
              "      <td>Gd</td>\n",
              "      <td>TA</td>\n",
              "      <td>Av</td>\n",
              "      <td>GLQ</td>\n",
              "      <td>655</td>\n",
              "      <td>Unf</td>\n",
              "      <td>0</td>\n",
              "      <td>490</td>\n",
              "      <td>1145</td>\n",
              "      <td>GasA</td>\n",
              "      <td>...</td>\n",
              "      <td>Y</td>\n",
              "      <td>SBrkr</td>\n",
              "      <td>1145</td>\n",
              "      <td>1053</td>\n",
              "      <td>0</td>\n",
              "      <td>2198</td>\n",
              "      <td>1</td>\n",
              "      <td>0</td>\n",
              "      <td>2</td>\n",
              "      <td>1</td>\n",
              "      <td>4</td>\n",
              "      <td>1</td>\n",
              "      <td>Gd</td>\n",
              "      <td>9</td>\n",
              "      <td>Typ</td>\n",
              "      <td>1</td>\n",
              "      <td>TA</td>\n",
              "      <td>Attchd</td>\n",
              "      <td>2000.0</td>\n",
              "      <td>RFn</td>\n",
              "      <td>3</td>\n",
              "      <td>836</td>\n",
              "      <td>TA</td>\n",
              "      <td>TA</td>\n",
              "      <td>Y</td>\n",
              "      <td>192</td>\n",
              "      <td>84</td>\n",
              "      <td>0</td>\n",
              "      <td>0</td>\n",
              "      <td>0</td>\n",
              "      <td>0</td>\n",
              "      <td>NaN</td>\n",
              "      <td>NaN</td>\n",
              "      <td>NaN</td>\n",
              "      <td>0</td>\n",
              "      <td>12</td>\n",
              "      <td>2008</td>\n",
              "      <td>WD</td>\n",
              "      <td>Normal</td>\n",
              "      <td>250000</td>\n",
              "    </tr>\n",
              "  </tbody>\n",
              "</table>\n",
              "<p>5 rows × 81 columns</p>\n",
              "</div>"
            ],
            "text/plain": [
              "   Id  MSSubClass MSZoning  ...  SaleType  SaleCondition SalePrice\n",
              "0   1          60       RL  ...        WD         Normal    208500\n",
              "1   2          20       RL  ...        WD         Normal    181500\n",
              "2   3          60       RL  ...        WD         Normal    223500\n",
              "3   4          70       RL  ...        WD        Abnorml    140000\n",
              "4   5          60       RL  ...        WD         Normal    250000\n",
              "\n",
              "[5 rows x 81 columns]"
            ]
          },
          "metadata": {},
          "execution_count": 8
        }
      ]
    },
    {
      "cell_type": "code",
      "metadata": {
        "id": "aaOlJsfK62Kx",
        "colab": {
          "base_uri": "https://localhost:8080/"
        },
        "outputId": "a098f704-07de-433f-d2c0-76f3b76a6a61"
      },
      "source": [
        "print('The shape of the train dataset is {}'.format(train.shape))"
      ],
      "execution_count": null,
      "outputs": [
        {
          "output_type": "stream",
          "name": "stdout",
          "text": [
            "The shape of the train dataset is (1460, 81)\n"
          ]
        }
      ]
    },
    {
      "cell_type": "code",
      "metadata": {
        "id": "6AJgI6o666eV",
        "colab": {
          "base_uri": "https://localhost:8080/"
        },
        "outputId": "12fad5e7-b477-40df-8231-5991927d12b0"
      },
      "source": [
        "train.isnull().sum()"
      ],
      "execution_count": null,
      "outputs": [
        {
          "output_type": "execute_result",
          "data": {
            "text/plain": [
              "Id                 0\n",
              "MSSubClass         0\n",
              "MSZoning           0\n",
              "LotFrontage      259\n",
              "LotArea            0\n",
              "                ... \n",
              "MoSold             0\n",
              "YrSold             0\n",
              "SaleType           0\n",
              "SaleCondition      0\n",
              "SalePrice          0\n",
              "Length: 81, dtype: int64"
            ]
          },
          "metadata": {},
          "execution_count": 10
        }
      ]
    },
    {
      "cell_type": "code",
      "metadata": {
        "id": "7sQBtYav69CY",
        "colab": {
          "base_uri": "https://localhost:8080/"
        },
        "outputId": "17ad70bb-4c37-4abe-9d97-a6f338a79401"
      },
      "source": [
        "train.isnull().sum()/len(train)*100"
      ],
      "execution_count": null,
      "outputs": [
        {
          "output_type": "execute_result",
          "data": {
            "text/plain": [
              "Id                0.000000\n",
              "MSSubClass        0.000000\n",
              "MSZoning          0.000000\n",
              "LotFrontage      17.739726\n",
              "LotArea           0.000000\n",
              "                   ...    \n",
              "MoSold            0.000000\n",
              "YrSold            0.000000\n",
              "SaleType          0.000000\n",
              "SaleCondition     0.000000\n",
              "SalePrice         0.000000\n",
              "Length: 81, dtype: float64"
            ]
          },
          "metadata": {},
          "execution_count": 11
        }
      ]
    },
    {
      "cell_type": "code",
      "metadata": {
        "id": "coEcqEuM7Eu3",
        "colab": {
          "base_uri": "https://localhost:8080/"
        },
        "outputId": "a15016f5-7e36-4974-9489-1386ad6cc52c"
      },
      "source": [
        "###Drop the 'Id' column\n",
        "\n",
        "train_Id = train['Id']\n",
        "print('The original shape of the train dataset is {}'.format(train.shape))\n",
        "train.drop('Id', axis = 1, inplace = True)\n",
        "print('The new shape of the train dataset is {}'.format(train.shape))"
      ],
      "execution_count": null,
      "outputs": [
        {
          "output_type": "stream",
          "name": "stdout",
          "text": [
            "The original shape of the train dataset is (1460, 81)\n",
            "The new shape of the train dataset is (1460, 80)\n"
          ]
        }
      ]
    },
    {
      "cell_type": "markdown",
      "metadata": {
        "id": "8FnirVtL9IRN"
      },
      "source": [
        "### Exploratory Data Analysis"
      ]
    },
    {
      "cell_type": "code",
      "metadata": {
        "id": "a4wN-2Fx7kkm",
        "colab": {
          "base_uri": "https://localhost:8080/"
        },
        "outputId": "b6354969-9e5c-4c37-b34c-feb3e94680d9"
      },
      "source": [
        "#Determine the number of missing values\n",
        "train_na = train.isnull().sum()/len(train) * 100\n",
        "train_na = train_na.drop(train_na[train_na == 0].index).sort_values(ascending=False)\n",
        "train_na"
      ],
      "execution_count": null,
      "outputs": [
        {
          "output_type": "execute_result",
          "data": {
            "text/plain": [
              "PoolQC          99.520548\n",
              "MiscFeature     96.301370\n",
              "Alley           93.767123\n",
              "Fence           80.753425\n",
              "FireplaceQu     47.260274\n",
              "LotFrontage     17.739726\n",
              "GarageYrBlt      5.547945\n",
              "GarageType       5.547945\n",
              "GarageFinish     5.547945\n",
              "GarageQual       5.547945\n",
              "GarageCond       5.547945\n",
              "BsmtFinType2     2.602740\n",
              "BsmtExposure     2.602740\n",
              "BsmtFinType1     2.534247\n",
              "BsmtCond         2.534247\n",
              "BsmtQual         2.534247\n",
              "MasVnrArea       0.547945\n",
              "MasVnrType       0.547945\n",
              "Electrical       0.068493\n",
              "dtype: float64"
            ]
          },
          "metadata": {},
          "execution_count": 13
        }
      ]
    },
    {
      "cell_type": "markdown",
      "metadata": {
        "id": "Ek9pN62KBHHU"
      },
      "source": [
        "We can see that PoolQC, MiscFeature and Alley have more than 90% missing values. The natural tendency is to drop these columns. However, if we study the data_description.txt file, the label 'NA' for these features mean the absence of a pool, miscellaneous feature and an alley. Hence, we will not drop these columns but instead, we'll replace those with 'None' in the data cleaning section"
      ]
    },
    {
      "cell_type": "markdown",
      "metadata": {
        "id": "Q1WIUUnbBM6o"
      },
      "source": [
        "The author of the dataset, Dean De Cock of Truman State University, mentioned that there are outliers in the dataset particularly when we plot GrLivArea vs SalePrice"
      ]
    },
    {
      "cell_type": "code",
      "metadata": {
        "id": "_Ou05hz8BNbc",
        "colab": {
          "base_uri": "https://localhost:8080/",
          "height": 279
        },
        "outputId": "4c5570e1-ce52-4e76-f7f5-659b3cafb21b"
      },
      "source": [
        "#Let's explore the outliers\n",
        "\n",
        "sns.set_style('darkgrid')\n",
        "fig,ax = plt.subplots()\n",
        "ax.scatter(x = train['GrLivArea'], y = train['SalePrice'])\n",
        "plt.xlabel('GrLivArea')\n",
        "plt.ylabel('SalePrice')\n",
        "plt.show()"
      ],
      "execution_count": null,
      "outputs": [
        {
          "output_type": "display_data",
          "data": {
            "image/png": "[encoded data removed]",
            "text/plain": [
              "<Figure size 432x288 with 1 Axes>"
            ]
          },
          "metadata": {}
        }
      ]
    },
    {
      "cell_type": "markdown",
      "metadata": {
        "id": "4lqJ9oBcLuM6"
      },
      "source": [
        "The author recommends removing houses with more than 4000 square feet so let's do that"
      ]
    },
    {
      "cell_type": "code",
      "metadata": {
        "id": "V5yLx_3KLtrd"
      },
      "source": [
        "train = train.drop(train[train['GrLivArea'] > 4000].index)"
      ],
      "execution_count": null,
      "outputs": []
    },
    {
      "cell_type": "code",
      "metadata": {
        "id": "jOvL3kWKMAb9",
        "colab": {
          "base_uri": "https://localhost:8080/",
          "height": 279
        },
        "outputId": "983ec7aa-3d0e-49c1-c174-7ff64c3c277d"
      },
      "source": [
        "sns.set_style('darkgrid')\n",
        "fig, ax = plt.subplots()\n",
        "ax.scatter(x = train['GrLivArea'], y = train['SalePrice'])\n",
        "plt.xlabel('GrLivArea')\n",
        "plt.ylabel('SalePrice')\n",
        "plt.show()"
      ],
      "execution_count": null,
      "outputs": [
        {
          "output_type": "display_data",
          "data": {
            "image/png": "[encoded data removed]",
            "text/plain": [
              "<Figure size 432x288 with 1 Axes>"
            ]
          },
          "metadata": {}
        }
      ]
    },
    {
      "cell_type": "code",
      "metadata": {
        "id": "Z9tcnznlMpN4",
        "colab": {
          "base_uri": "https://localhost:8080/",
          "height": 279
        },
        "outputId": "ee28f149-e115-485b-8b0e-665886ad652b"
      },
      "source": [
        "#Let's explore the target variable 'SalePrice'\n",
        "\n",
        "sns.histplot(train['SalePrice'], stat = 'probability', bins = 30, kde = True)\n",
        "plt.show()"
      ],
      "execution_count": null,
      "outputs": [
        {
          "output_type": "display_data",
          "data": {
            "image/png": "[encoded data removed]",
            "text/plain": [
              "<Figure size 432x288 with 1 Axes>"
            ]
          },
          "metadata": {}
        }
      ]
    },
    {
      "cell_type": "markdown",
      "metadata": {
        "id": "TZksSelQPd_c"
      },
      "source": [
        "We can see that the data is skewed to the right, meaning that the tail is on the right side. To create a good model, at least for regression, we'd like our data to follow a normal distribution"
      ]
    },
    {
      "cell_type": "code",
      "metadata": {
        "id": "_0qM03JJPfOo",
        "colab": {
          "base_uri": "https://localhost:8080/",
          "height": 295
        },
        "outputId": "b2b100f8-3502-49e9-d153-0205c3e2c9a7"
      },
      "source": [
        "prob = stats.probplot(train['SalePrice'], plot = plt)\n",
        "plt.show()"
      ],
      "execution_count": null,
      "outputs": [
        {
          "output_type": "display_data",
          "data": {
            "image/png": "[encoded data removed]",
            "text/plain": [
              "<Figure size 432x288 with 1 Axes>"
            ]
          },
          "metadata": {}
        }
      ]
    },
    {
      "cell_type": "markdown",
      "metadata": {
        "id": "a6WEp57NRLrj"
      },
      "source": [
        "The QQ (Quantile-Quantile) plot above confirms that we don't have a normal distribution"
      ]
    },
    {
      "cell_type": "markdown",
      "metadata": {
        "id": "raNumLS9RR3X"
      },
      "source": [
        "### Log Transformation of the Target Variable"
      ]
    },
    {
      "cell_type": "markdown",
      "metadata": {
        "id": "MeIn2LBkRg-b"
      },
      "source": [
        "To address the skewness of the target variable, we'll perform a log transformation"
      ]
    },
    {
      "cell_type": "code",
      "metadata": {
        "id": "ryP_jjKVRUep"
      },
      "source": [
        "#We'll use the numpy log1p function for the log transformation of the target variable\n",
        "\n",
        "train['SalePrice'] = np.log1p(train['SalePrice'])"
      ],
      "execution_count": null,
      "outputs": []
    },
    {
      "cell_type": "code",
      "metadata": {
        "id": "wNlBDBI9RUoR",
        "colab": {
          "base_uri": "https://localhost:8080/",
          "height": 279
        },
        "outputId": "42dc0ce5-4fc8-418c-eced-d56ca2f0564d"
      },
      "source": [
        "sns.histplot(train['SalePrice'], bins = 30, kde = True)\n",
        "plt.show()"
      ],
      "execution_count": null,
      "outputs": [
        {
          "output_type": "display_data",
          "data": {
            "image/png": "[encoded data removed]",
            "text/plain": [
              "<Figure size 432x288 with 1 Axes>"
            ]
          },
          "metadata": {}
        }
      ]
    },
    {
      "cell_type": "code",
      "metadata": {
        "id": "_HG93TLiRU09",
        "colab": {
          "base_uri": "https://localhost:8080/",
          "height": 295
        },
        "outputId": "fc237612-6a80-40bf-f2b2-2de48433a4d0"
      },
      "source": [
        "prob = stats.probplot(train['SalePrice'], plot = plt)\n",
        "plt.show()"
      ],
      "execution_count": null,
      "outputs": [
        {
          "output_type": "display_data",
          "data": {
            "image/png": "[encoded data removed]",
            "text/plain": [
              "<Figure size 432x288 with 1 Axes>"
            ]
          },
          "metadata": {}
        }
      ]
    },
    {
      "cell_type": "markdown",
      "metadata": {
        "id": "oJiNSyhgjHg_"
      },
      "source": [
        "### Data Cleaning"
      ]
    },
    {
      "cell_type": "code",
      "metadata": {
        "id": "rHezqHC1jJIS",
        "colab": {
          "base_uri": "https://localhost:8080/",
          "height": 607
        },
        "outputId": "9b067cad-93ce-4904-8c32-84b264b76cb4"
      },
      "source": [
        "plt.figure(figsize = (9,9))\n",
        "sns.heatmap(train.corr())\n",
        "plt.show()"
      ],
      "execution_count": null,
      "outputs": [
        {
          "output_type": "display_data",
          "data": {
            "image/png": "[encoded data removed]",
            "text/plain": [
              "<Figure size 648x648 with 2 Axes>"
            ]
          },
          "metadata": {}
        }
      ]
    },
    {
      "cell_type": "code",
      "metadata": {
        "id": "L9opzjsgjdIG",
        "colab": {
          "base_uri": "https://localhost:8080/"
        },
        "outputId": "adb6f33f-60c8-4ff7-880b-e2fce242d409"
      },
      "source": [
        "train.corr()['SalePrice'].sort_values(ascending=False)"
      ],
      "execution_count": null,
      "outputs": [
        {
          "output_type": "execute_result",
          "data": {
            "text/plain": [
              "SalePrice        1.000000\n",
              "OverallQual      0.819240\n",
              "GrLivArea        0.718844\n",
              "GarageCars       0.680408\n",
              "GarageArea       0.655212\n",
              "TotalBsmtSF      0.641553\n",
              "1stFlrSF         0.613742\n",
              "FullBath         0.590919\n",
              "YearBuilt        0.588977\n",
              "YearRemodAdd     0.568986\n",
              "GarageYrBlt      0.544005\n",
              "TotRmsAbvGrd     0.533446\n",
              "Fireplaces       0.487126\n",
              "MasVnrArea       0.430073\n",
              "BsmtFinSF1       0.382710\n",
              "LotFrontage      0.363286\n",
              "WoodDeckSF       0.330573\n",
              "OpenPorchSF      0.327038\n",
              "HalfBath         0.311191\n",
              "2ndFlrSF         0.306605\n",
              "LotArea          0.258945\n",
              "BsmtFullBath     0.238851\n",
              "BsmtUnfSF        0.223248\n",
              "BedroomAbvGr     0.204117\n",
              "ScreenPorch      0.123860\n",
              "MoSold           0.062231\n",
              "3SsnPorch        0.056065\n",
              "PoolArea         0.040679\n",
              "BsmtFinSF2       0.006420\n",
              "BsmtHalfBath    -0.014974\n",
              "MiscVal         -0.019752\n",
              "YrSold          -0.034319\n",
              "OverallCond     -0.036843\n",
              "LowQualFinSF    -0.037698\n",
              "MSSubClass      -0.075083\n",
              "KitchenAbvGr    -0.147891\n",
              "EnclosedPorch   -0.148636\n",
              "Name: SalePrice, dtype: float64"
            ]
          },
          "metadata": {},
          "execution_count": 23
        }
      ]
    },
    {
      "cell_type": "markdown",
      "metadata": {
        "id": "xqXki6hwkSVw"
      },
      "source": [
        "We can see that OverallQual and GrLivArea have strong correlations with SalePrice"
      ]
    },
    {
      "cell_type": "markdown",
      "metadata": {
        "id": "nQIlsDpNkU2x"
      },
      "source": [
        "Now it's time to fill the missing values. As I've stated earlier, for some features, NA means None so we'll fill those features with None"
      ]
    },
    {
      "cell_type": "code",
      "metadata": {
        "id": "vJafIVIkkVO-"
      },
      "source": [
        "for col in ('PoolQC', 'MiscFeature', 'Alley', 'Fence', 'FireplaceQu'):\n",
        "  train[col] = train[col].fillna('None')"
      ],
      "execution_count": null,
      "outputs": []
    },
    {
      "cell_type": "code",
      "metadata": {
        "id": "aMPxhUf6kmao"
      },
      "source": [
        "train['LotFrontage'] = train.groupby('Neighborhood')['LotFrontage'].transform(lambda x:x.fillna(x.median()))"
      ],
      "execution_count": null,
      "outputs": []
    },
    {
      "cell_type": "code",
      "metadata": {
        "id": "zQ_tTcxXk4qP",
        "colab": {
          "base_uri": "https://localhost:8080/"
        },
        "outputId": "4113508f-f994-42f9-d70b-72e69e3d5b40"
      },
      "source": [
        "train_na = train.isnull().sum()/len(train)\n",
        "train_na = train_na.drop(train_na[train_na == 0].index).sort_values(ascending=False)\n",
        "train_na"
      ],
      "execution_count": null,
      "outputs": [
        {
          "output_type": "execute_result",
          "data": {
            "text/plain": [
              "GarageCond      0.055632\n",
              "GarageQual      0.055632\n",
              "GarageFinish    0.055632\n",
              "GarageYrBlt     0.055632\n",
              "GarageType      0.055632\n",
              "BsmtFinType2    0.026099\n",
              "BsmtExposure    0.026099\n",
              "BsmtFinType1    0.025412\n",
              "BsmtCond        0.025412\n",
              "BsmtQual        0.025412\n",
              "MasVnrArea      0.005495\n",
              "MasVnrType      0.005495\n",
              "Electrical      0.000687\n",
              "dtype: float64"
            ]
          },
          "metadata": {},
          "execution_count": 26
        }
      ]
    },
    {
      "cell_type": "code",
      "metadata": {
        "id": "Hie9Kv8nbWds"
      },
      "source": [
        "for col in ('GarageType', 'GarageFinish', 'GarageQual', 'GarageCond'):\n",
        "  train[col] = train[col].fillna('None')"
      ],
      "execution_count": null,
      "outputs": []
    },
    {
      "cell_type": "code",
      "metadata": {
        "id": "8vIDiDH8cElL"
      },
      "source": [
        "for col in ('GarageYrBlt', 'GarageArea', 'GarageCars'):\n",
        "  train[col] = train[col].fillna(0)"
      ],
      "execution_count": null,
      "outputs": []
    },
    {
      "cell_type": "code",
      "metadata": {
        "id": "aRe42M-CcTLQ"
      },
      "source": [
        "for col in ('BsmtFinSF1', 'BsmtFinSF2', 'BsmtUnfSF', 'TotalBsmtSF', 'BsmtFullBath', 'BsmtHalfBath'):\n",
        "  train[col] = train[col].fillna(0)"
      ],
      "execution_count": null,
      "outputs": []
    },
    {
      "cell_type": "code",
      "metadata": {
        "id": "yLCFuv0Zc0yU"
      },
      "source": [
        "for col in ('BsmtQual', 'BsmtCond', 'BsmtExposure', 'BsmtFinType1', 'BsmtFinType2'):\n",
        "  train[col] = train[col].fillna('None')"
      ],
      "execution_count": null,
      "outputs": []
    },
    {
      "cell_type": "code",
      "metadata": {
        "id": "iN8M23ISdCjy"
      },
      "source": [
        "train['MasVnrType'] = train['MasVnrType'].fillna('None')\n",
        "train['MasVnrArea'] = train['MasVnrArea'].fillna(0)"
      ],
      "execution_count": null,
      "outputs": []
    },
    {
      "cell_type": "code",
      "metadata": {
        "id": "35td7JESd4Lm"
      },
      "source": [
        "train['MSZoning'] = train['MSZoning'].fillna(train['MSZoning'].mode()[0])"
      ],
      "execution_count": null,
      "outputs": []
    },
    {
      "cell_type": "code",
      "metadata": {
        "id": "ugx5uUQXeWRZ"
      },
      "source": [
        "train = train.drop(['Utilities'], axis = 1)"
      ],
      "execution_count": null,
      "outputs": []
    },
    {
      "cell_type": "code",
      "metadata": {
        "id": "6yrUIFnbe8Zk"
      },
      "source": [
        "train['Functional'] = train['Functional'].fillna('Typ')"
      ],
      "execution_count": null,
      "outputs": []
    },
    {
      "cell_type": "code",
      "metadata": {
        "id": "hcqR80zEfFBo"
      },
      "source": [
        "for col in ('Electrical', 'KitchenQual', 'Exterior1st', 'Exterior2nd', 'SaleType'):\n",
        "  train[col] = train[col].fillna(train[col].mode()[0])"
      ],
      "execution_count": null,
      "outputs": []
    },
    {
      "cell_type": "code",
      "metadata": {
        "id": "lR7DWbBVfSh4"
      },
      "source": [
        "train['MSSubClass'] = train['MSSubClass'].fillna('None')"
      ],
      "execution_count": null,
      "outputs": []
    },
    {
      "cell_type": "code",
      "metadata": {
        "id": "NsyzIMRXfgNj",
        "colab": {
          "base_uri": "https://localhost:8080/"
        },
        "outputId": "2bc18f9b-4658-429a-c272-3f90bae65a2f"
      },
      "source": [
        "#Check for remaining missing values\n",
        "train_na = train.isnull().sum()/len(train)\n",
        "train_na = train_na.drop(train_na[train_na == 0].index).sort_values(ascending=False)\n",
        "print('There are {} missing values'.format(len(train_na)))"
      ],
      "execution_count": null,
      "outputs": [
        {
          "output_type": "stream",
          "name": "stdout",
          "text": [
            "There are 0 missing values\n"
          ]
        }
      ]
    },
    {
      "cell_type": "code",
      "metadata": {
        "id": "L2WyAhuvV37y",
        "colab": {
          "base_uri": "https://localhost:8080/"
        },
        "outputId": "4259d062-6f68-4abf-b7c9-d98fdca1feb4"
      },
      "source": [
        "from sklearn.preprocessing import LabelEncoder\n",
        "\n",
        "cols = ('FireplaceQu', 'BsmtQual', 'BsmtCond', 'GarageQual', 'GarageCond', \n",
        "        'ExterQual', 'ExterCond','HeatingQC', 'PoolQC', 'KitchenQual', 'BsmtFinType1', \n",
        "        'BsmtFinType2', 'Functional', 'Fence', 'BsmtExposure', 'GarageFinish', 'LandSlope',\n",
        "        'LotShape', 'PavedDrive', 'Street', 'Alley', 'CentralAir', 'MSSubClass', 'OverallCond', \n",
        "        'YrSold', 'MoSold')\n",
        "\n",
        "for c in cols:\n",
        "  le = LabelEncoder()\n",
        "  le.fit(list(train[c].values))\n",
        "  train[c] = le.transform(list(train[c].values))\n",
        "\n",
        "print('The shape of train: {}'.format(train.shape))"
      ],
      "execution_count": null,
      "outputs": [
        {
          "output_type": "stream",
          "name": "stdout",
          "text": [
            "The shape of train: (1456, 79)\n"
          ]
        }
      ]
    },
    {
      "cell_type": "code",
      "metadata": {
        "id": "DVfK2k5XXDMM",
        "colab": {
          "base_uri": "https://localhost:8080/"
        },
        "outputId": "85de1758-fef0-482f-e500-bc12373c0fcc"
      },
      "source": [
        "###Assign 'SalePrice' to target\n",
        "target = train['SalePrice']\n",
        "\n",
        "###Drop the 'SalePrice' from data\n",
        "train.drop(['SalePrice'], axis = 1, inplace = True)\n",
        "print('Shape of train dataset: {}'.format(train.shape))"
      ],
      "execution_count": null,
      "outputs": [
        {
          "output_type": "stream",
          "name": "stdout",
          "text": [
            "Shape of train dataset: (1456, 78)\n"
          ]
        }
      ]
    },
    {
      "cell_type": "markdown",
      "metadata": {
        "id": "auSIssLWaeTN"
      },
      "source": [
        "### Feature Engineering"
      ]
    },
    {
      "cell_type": "code",
      "metadata": {
        "id": "iuj3KkHTZer7"
      },
      "source": [
        "import numpy as np\n",
        "\n",
        "for f in ('OverallQual', 'GrLivArea', 'GarageCars', 'GarageArea'):\n",
        "  train[f+'_p2'] = train[f] **2\n",
        "  train[f+'_p3'] = train[f] **3\n",
        "  train[f+'_psqrt'] = np.sqrt(train[f])\n",
        "\n",
        "#Adding total sqfootage feature\n",
        "train['TotalSF'] = train['TotalBsmtSF'] + train['1stFlrSF'] + train['2ndFlrSF']\n",
        "# train['OverArea'] = train['OverallQual'] * train['GrLivArea']\n",
        "# train['OverArea'] = train['GarageCars'] * train['GarageArea']"
      ],
      "execution_count": null,
      "outputs": []
    },
    {
      "cell_type": "code",
      "metadata": {
        "id": "q4lOyIh0Ze6c",
        "colab": {
          "base_uri": "https://localhost:8080/",
          "height": 363
        },
        "outputId": "61e70344-9f57-4c01-ff04-656e0d0859f9"
      },
      "source": [
        "num_feats = train.dtypes[train.dtypes != 'object'].index\n",
        "\n",
        "skew_feats = train[num_feats].apply(lambda x:skew(x.dropna())).sort_values(ascending=False)\n",
        "skewness = pd.DataFrame({'Skew':skew_feats})\n",
        "skewness.head(10)"
      ],
      "execution_count": null,
      "outputs": [
        {
          "output_type": "execute_result",
          "data": {
            "text/html": [
              "<div>\n",
              "<style scoped>\n",
              "    .dataframe tbody tr th:only-of-type {\n",
              "        vertical-align: middle;\n",
              "    }\n",
              "\n",
              "    .dataframe tbody tr th {\n",
              "        vertical-align: top;\n",
              "    }\n",
              "\n",
              "    .dataframe thead th {\n",
              "        text-align: right;\n",
              "    }\n",
              "</style>\n",
              "<table border=\"1\" class=\"dataframe\">\n",
              "  <thead>\n",
              "    <tr style=\"text-align: right;\">\n",
              "      <th></th>\n",
              "      <th>Skew</th>\n",
              "    </tr>\n",
              "  </thead>\n",
              "  <tbody>\n",
              "    <tr>\n",
              "      <th>MiscVal</th>\n",
              "      <td>24.418175</td>\n",
              "    </tr>\n",
              "    <tr>\n",
              "      <th>PoolArea</th>\n",
              "      <td>17.504556</td>\n",
              "    </tr>\n",
              "    <tr>\n",
              "      <th>LotArea</th>\n",
              "      <td>12.574590</td>\n",
              "    </tr>\n",
              "    <tr>\n",
              "      <th>3SsnPorch</th>\n",
              "      <td>10.279262</td>\n",
              "    </tr>\n",
              "    <tr>\n",
              "      <th>LowQualFinSF</th>\n",
              "      <td>8.989291</td>\n",
              "    </tr>\n",
              "    <tr>\n",
              "      <th>LandSlope</th>\n",
              "      <td>4.801326</td>\n",
              "    </tr>\n",
              "    <tr>\n",
              "      <th>KitchenAbvGr</th>\n",
              "      <td>4.476748</td>\n",
              "    </tr>\n",
              "    <tr>\n",
              "      <th>BsmtFinSF2</th>\n",
              "      <td>4.244209</td>\n",
              "    </tr>\n",
              "    <tr>\n",
              "      <th>BsmtHalfBath</th>\n",
              "      <td>4.124712</td>\n",
              "    </tr>\n",
              "    <tr>\n",
              "      <th>ScreenPorch</th>\n",
              "      <td>4.111400</td>\n",
              "    </tr>\n",
              "  </tbody>\n",
              "</table>\n",
              "</div>"
            ],
            "text/plain": [
              "                   Skew\n",
              "MiscVal       24.418175\n",
              "PoolArea      17.504556\n",
              "LotArea       12.574590\n",
              "3SsnPorch     10.279262\n",
              "LowQualFinSF   8.989291\n",
              "LandSlope      4.801326\n",
              "KitchenAbvGr   4.476748\n",
              "BsmtFinSF2     4.244209\n",
              "BsmtHalfBath   4.124712\n",
              "ScreenPorch    4.111400"
            ]
          },
          "metadata": {},
          "execution_count": 41
        }
      ]
    },
    {
      "cell_type": "code",
      "metadata": {
        "id": "qXnt0ZDAZfQp",
        "colab": {
          "base_uri": "https://localhost:8080/"
        },
        "outputId": "d7dcc09a-d458-49cd-b2ee-7d68e0423257"
      },
      "source": [
        "skewness = skewness[abs(skewness) > 0.75]\n",
        "print('There are {} skewed numerical features to Box Cox transform'.format(skewness.shape[0]))"
      ],
      "execution_count": null,
      "outputs": [
        {
          "output_type": "stream",
          "name": "stdout",
          "text": [
            "There are 71 skewed numerical features to Box Cox transform\n"
          ]
        }
      ]
    },
    {
      "cell_type": "code",
      "metadata": {
        "id": "nGlQO0f_ZfZZ"
      },
      "source": [
        "from scipy.special import boxcox1p\n",
        "skew_feats = skewness.index\n",
        "lam = 0.15\n",
        "for s in skew_feats:\n",
        "  train[s] = boxcox1p(train[s],lam)"
      ],
      "execution_count": null,
      "outputs": []
    },
    {
      "cell_type": "markdown",
      "metadata": {
        "id": "eABYiyieir3G"
      },
      "source": [
        "### Read the Test Data"
      ]
    },
    {
      "cell_type": "code",
      "metadata": {
        "id": "oUCmCbygikY8"
      },
      "source": [
        "test = pd.read_csv('/content/drive/MyDrive/Ames Housing/test.csv')"
      ],
      "execution_count": null,
      "outputs": []
    },
    {
      "cell_type": "code",
      "metadata": {
        "id": "iEo1_DerikqD",
        "colab": {
          "base_uri": "https://localhost:8080/",
          "height": 226
        },
        "outputId": "993c77ae-9df9-4d17-8bb5-f21ef5887198"
      },
      "source": [
        "test.head()"
      ],
      "execution_count": null,
      "outputs": [
        {
          "output_type": "execute_result",
          "data": {
            "text/html": [
              "<div>\n",
              "<style scoped>\n",
              "    .dataframe tbody tr th:only-of-type {\n",
              "        vertical-align: middle;\n",
              "    }\n",
              "\n",
              "    .dataframe tbody tr th {\n",
              "        vertical-align: top;\n",
              "    }\n",
              "\n",
              "    .dataframe thead th {\n",
              "        text-align: right;\n",
              "    }\n",
              "</style>\n",
              "<table border=\"1\" class=\"dataframe\">\n",
              "  <thead>\n",
              "    <tr style=\"text-align: right;\">\n",
              "      <th></th>\n",
              "      <th>Id</th>\n",
              "      <th>MSSubClass</th>\n",
              "      <th>MSZoning</th>\n",
              "      <th>LotFrontage</th>\n",
              "      <th>LotArea</th>\n",
              "      <th>Street</th>\n",
              "      <th>Alley</th>\n",
              "      <th>LotShape</th>\n",
              "      <th>LandContour</th>\n",
              "      <th>Utilities</th>\n",
              "      <th>LotConfig</th>\n",
              "      <th>LandSlope</th>\n",
              "      <th>Neighborhood</th>\n",
              "      <th>Condition1</th>\n",
              "      <th>Condition2</th>\n",
              "      <th>BldgType</th>\n",
              "      <th>HouseStyle</th>\n",
              "      <th>OverallQual</th>\n",
              "      <th>OverallCond</th>\n",
              "      <th>YearBuilt</th>\n",
              "      <th>YearRemodAdd</th>\n",
              "      <th>RoofStyle</th>\n",
              "      <th>RoofMatl</th>\n",
              "      <th>Exterior1st</th>\n",
              "      <th>Exterior2nd</th>\n",
              "      <th>MasVnrType</th>\n",
              "      <th>MasVnrArea</th>\n",
              "      <th>ExterQual</th>\n",
              "      <th>ExterCond</th>\n",
              "      <th>Foundation</th>\n",
              "      <th>BsmtQual</th>\n",
              "      <th>BsmtCond</th>\n",
              "      <th>BsmtExposure</th>\n",
              "      <th>BsmtFinType1</th>\n",
              "      <th>BsmtFinSF1</th>\n",
              "      <th>BsmtFinType2</th>\n",
              "      <th>BsmtFinSF2</th>\n",
              "      <th>BsmtUnfSF</th>\n",
              "      <th>TotalBsmtSF</th>\n",
              "      <th>Heating</th>\n",
              "      <th>HeatingQC</th>\n",
              "      <th>CentralAir</th>\n",
              "      <th>Electrical</th>\n",
              "      <th>1stFlrSF</th>\n",
              "      <th>2ndFlrSF</th>\n",
              "      <th>LowQualFinSF</th>\n",
              "      <th>GrLivArea</th>\n",
              "      <th>BsmtFullBath</th>\n",
              "      <th>BsmtHalfBath</th>\n",
              "      <th>FullBath</th>\n",
              "      <th>HalfBath</th>\n",
              "      <th>BedroomAbvGr</th>\n",
              "      <th>KitchenAbvGr</th>\n",
              "      <th>KitchenQual</th>\n",
              "      <th>TotRmsAbvGrd</th>\n",
              "      <th>Functional</th>\n",
              "      <th>Fireplaces</th>\n",
              "      <th>FireplaceQu</th>\n",
              "      <th>GarageType</th>\n",
              "      <th>GarageYrBlt</th>\n",
              "      <th>GarageFinish</th>\n",
              "      <th>GarageCars</th>\n",
              "      <th>GarageArea</th>\n",
              "      <th>GarageQual</th>\n",
              "      <th>GarageCond</th>\n",
              "      <th>PavedDrive</th>\n",
              "      <th>WoodDeckSF</th>\n",
              "      <th>OpenPorchSF</th>\n",
              "      <th>EnclosedPorch</th>\n",
              "      <th>3SsnPorch</th>\n",
              "      <th>ScreenPorch</th>\n",
              "      <th>PoolArea</th>\n",
              "      <th>PoolQC</th>\n",
              "      <th>Fence</th>\n",
              "      <th>MiscFeature</th>\n",
              "      <th>MiscVal</th>\n",
              "      <th>MoSold</th>\n",
              "      <th>YrSold</th>\n",
              "      <th>SaleType</th>\n",
              "      <th>SaleCondition</th>\n",
              "    </tr>\n",
              "  </thead>\n",
              "  <tbody>\n",
              "    <tr>\n",
              "      <th>0</th>\n",
              "      <td>1461</td>\n",
              "      <td>20</td>\n",
              "      <td>RH</td>\n",
              "      <td>80.0</td>\n",
              "      <td>11622</td>\n",
              "      <td>Pave</td>\n",
              "      <td>NaN</td>\n",
              "      <td>Reg</td>\n",
              "      <td>Lvl</td>\n",
              "      <td>AllPub</td>\n",
              "      <td>Inside</td>\n",
              "      <td>Gtl</td>\n",
              "      <td>NAmes</td>\n",
              "      <td>Feedr</td>\n",
              "      <td>Norm</td>\n",
              "      <td>1Fam</td>\n",
              "      <td>1Story</td>\n",
              "      <td>5</td>\n",
              "      <td>6</td>\n",
              "      <td>1961</td>\n",
              "      <td>1961</td>\n",
              "      <td>Gable</td>\n",
              "      <td>CompShg</td>\n",
              "      <td>VinylSd</td>\n",
              "      <td>VinylSd</td>\n",
              "      <td>None</td>\n",
              "      <td>0.0</td>\n",
              "      <td>TA</td>\n",
              "      <td>TA</td>\n",
              "      <td>CBlock</td>\n",
              "      <td>TA</td>\n",
              "      <td>TA</td>\n",
              "      <td>No</td>\n",
              "      <td>Rec</td>\n",
              "      <td>468.0</td>\n",
              "      <td>LwQ</td>\n",
              "      <td>144.0</td>\n",
              "      <td>270.0</td>\n",
              "      <td>882.0</td>\n",
              "      <td>GasA</td>\n",
              "      <td>TA</td>\n",
              "      <td>Y</td>\n",
              "      <td>SBrkr</td>\n",
              "      <td>896</td>\n",
              "      <td>0</td>\n",
              "      <td>0</td>\n",
              "      <td>896</td>\n",
              "      <td>0.0</td>\n",
              "      <td>0.0</td>\n",
              "      <td>1</td>\n",
              "      <td>0</td>\n",
              "      <td>2</td>\n",
              "      <td>1</td>\n",
              "      <td>TA</td>\n",
              "      <td>5</td>\n",
              "      <td>Typ</td>\n",
              "      <td>0</td>\n",
              "      <td>NaN</td>\n",
              "      <td>Attchd</td>\n",
              "      <td>1961.0</td>\n",
              "      <td>Unf</td>\n",
              "      <td>1.0</td>\n",
              "      <td>730.0</td>\n",
              "      <td>TA</td>\n",
              "      <td>TA</td>\n",
              "      <td>Y</td>\n",
              "      <td>140</td>\n",
              "      <td>0</td>\n",
              "      <td>0</td>\n",
              "      <td>0</td>\n",
              "      <td>120</td>\n",
              "      <td>0</td>\n",
              "      <td>NaN</td>\n",
              "      <td>MnPrv</td>\n",
              "      <td>NaN</td>\n",
              "      <td>0</td>\n",
              "      <td>6</td>\n",
              "      <td>2010</td>\n",
              "      <td>WD</td>\n",
              "      <td>Normal</td>\n",
              "    </tr>\n",
              "    <tr>\n",
              "      <th>1</th>\n",
              "      <td>1462</td>\n",
              "      <td>20</td>\n",
              "      <td>RL</td>\n",
              "      <td>81.0</td>\n",
              "      <td>14267</td>\n",
              "      <td>Pave</td>\n",
              "      <td>NaN</td>\n",
              "      <td>IR1</td>\n",
              "      <td>Lvl</td>\n",
              "      <td>AllPub</td>\n",
              "      <td>Corner</td>\n",
              "      <td>Gtl</td>\n",
              "      <td>NAmes</td>\n",
              "      <td>Norm</td>\n",
              "      <td>Norm</td>\n",
              "      <td>1Fam</td>\n",
              "      <td>1Story</td>\n",
              "      <td>6</td>\n",
              "      <td>6</td>\n",
              "      <td>1958</td>\n",
              "      <td>1958</td>\n",
              "      <td>Hip</td>\n",
              "      <td>CompShg</td>\n",
              "      <td>Wd Sdng</td>\n",
              "      <td>Wd Sdng</td>\n",
              "      <td>BrkFace</td>\n",
              "      <td>108.0</td>\n",
              "      <td>TA</td>\n",
              "      <td>TA</td>\n",
              "      <td>CBlock</td>\n",
              "      <td>TA</td>\n",
              "      <td>TA</td>\n",
              "      <td>No</td>\n",
              "      <td>ALQ</td>\n",
              "      <td>923.0</td>\n",
              "      <td>Unf</td>\n",
              "      <td>0.0</td>\n",
              "      <td>406.0</td>\n",
              "      <td>1329.0</td>\n",
              "      <td>GasA</td>\n",
              "      <td>TA</td>\n",
              "      <td>Y</td>\n",
              "      <td>SBrkr</td>\n",
              "      <td>1329</td>\n",
              "      <td>0</td>\n",
              "      <td>0</td>\n",
              "      <td>1329</td>\n",
              "      <td>0.0</td>\n",
              "      <td>0.0</td>\n",
              "      <td>1</td>\n",
              "      <td>1</td>\n",
              "      <td>3</td>\n",
              "      <td>1</td>\n",
              "      <td>Gd</td>\n",
              "      <td>6</td>\n",
              "      <td>Typ</td>\n",
              "      <td>0</td>\n",
              "      <td>NaN</td>\n",
              "      <td>Attchd</td>\n",
              "      <td>1958.0</td>\n",
              "      <td>Unf</td>\n",
              "      <td>1.0</td>\n",
              "      <td>312.0</td>\n",
              "      <td>TA</td>\n",
              "      <td>TA</td>\n",
              "      <td>Y</td>\n",
              "      <td>393</td>\n",
              "      <td>36</td>\n",
              "      <td>0</td>\n",
              "      <td>0</td>\n",
              "      <td>0</td>\n",
              "      <td>0</td>\n",
              "      <td>NaN</td>\n",
              "      <td>NaN</td>\n",
              "      <td>Gar2</td>\n",
              "      <td>12500</td>\n",
              "      <td>6</td>\n",
              "      <td>2010</td>\n",
              "      <td>WD</td>\n",
              "      <td>Normal</td>\n",
              "    </tr>\n",
              "    <tr>\n",
              "      <th>2</th>\n",
              "      <td>1463</td>\n",
              "      <td>60</td>\n",
              "      <td>RL</td>\n",
              "      <td>74.0</td>\n",
              "      <td>13830</td>\n",
              "      <td>Pave</td>\n",
              "      <td>NaN</td>\n",
              "      <td>IR1</td>\n",
              "      <td>Lvl</td>\n",
              "      <td>AllPub</td>\n",
              "      <td>Inside</td>\n",
              "      <td>Gtl</td>\n",
              "      <td>Gilbert</td>\n",
              "      <td>Norm</td>\n",
              "      <td>Norm</td>\n",
              "      <td>1Fam</td>\n",
              "      <td>2Story</td>\n",
              "      <td>5</td>\n",
              "      <td>5</td>\n",
              "      <td>1997</td>\n",
              "      <td>1998</td>\n",
              "      <td>Gable</td>\n",
              "      <td>CompShg</td>\n",
              "      <td>VinylSd</td>\n",
              "      <td>VinylSd</td>\n",
              "      <td>None</td>\n",
              "      <td>0.0</td>\n",
              "      <td>TA</td>\n",
              "      <td>TA</td>\n",
              "      <td>PConc</td>\n",
              "      <td>Gd</td>\n",
              "      <td>TA</td>\n",
              "      <td>No</td>\n",
              "      <td>GLQ</td>\n",
              "      <td>791.0</td>\n",
              "      <td>Unf</td>\n",
              "      <td>0.0</td>\n",
              "      <td>137.0</td>\n",
              "      <td>928.0</td>\n",
              "      <td>GasA</td>\n",
              "      <td>Gd</td>\n",
              "      <td>Y</td>\n",
              "      <td>SBrkr</td>\n",
              "      <td>928</td>\n",
              "      <td>701</td>\n",
              "      <td>0</td>\n",
              "      <td>1629</td>\n",
              "      <td>0.0</td>\n",
              "      <td>0.0</td>\n",
              "      <td>2</td>\n",
              "      <td>1</td>\n",
              "      <td>3</td>\n",
              "      <td>1</td>\n",
              "      <td>TA</td>\n",
              "      <td>6</td>\n",
              "      <td>Typ</td>\n",
              "      <td>1</td>\n",
              "      <td>TA</td>\n",
              "      <td>Attchd</td>\n",
              "      <td>1997.0</td>\n",
              "      <td>Fin</td>\n",
              "      <td>2.0</td>\n",
              "      <td>482.0</td>\n",
              "      <td>TA</td>\n",
              "      <td>TA</td>\n",
              "      <td>Y</td>\n",
              "      <td>212</td>\n",
              "      <td>34</td>\n",
              "      <td>0</td>\n",
              "      <td>0</td>\n",
              "      <td>0</td>\n",
              "      <td>0</td>\n",
              "      <td>NaN</td>\n",
              "      <td>MnPrv</td>\n",
              "      <td>NaN</td>\n",
              "      <td>0</td>\n",
              "      <td>3</td>\n",
              "      <td>2010</td>\n",
              "      <td>WD</td>\n",
              "      <td>Normal</td>\n",
              "    </tr>\n",
              "    <tr>\n",
              "      <th>3</th>\n",
              "      <td>1464</td>\n",
              "      <td>60</td>\n",
              "      <td>RL</td>\n",
              "      <td>78.0</td>\n",
              "      <td>9978</td>\n",
              "      <td>Pave</td>\n",
              "      <td>NaN</td>\n",
              "      <td>IR1</td>\n",
              "      <td>Lvl</td>\n",
              "      <td>AllPub</td>\n",
              "      <td>Inside</td>\n",
              "      <td>Gtl</td>\n",
              "      <td>Gilbert</td>\n",
              "      <td>Norm</td>\n",
              "      <td>Norm</td>\n",
              "      <td>1Fam</td>\n",
              "      <td>2Story</td>\n",
              "      <td>6</td>\n",
              "      <td>6</td>\n",
              "      <td>1998</td>\n",
              "      <td>1998</td>\n",
              "      <td>Gable</td>\n",
              "      <td>CompShg</td>\n",
              "      <td>VinylSd</td>\n",
              "      <td>VinylSd</td>\n",
              "      <td>BrkFace</td>\n",
              "      <td>20.0</td>\n",
              "      <td>TA</td>\n",
              "      <td>TA</td>\n",
              "      <td>PConc</td>\n",
              "      <td>TA</td>\n",
              "      <td>TA</td>\n",
              "      <td>No</td>\n",
              "      <td>GLQ</td>\n",
              "      <td>602.0</td>\n",
              "      <td>Unf</td>\n",
              "      <td>0.0</td>\n",
              "      <td>324.0</td>\n",
              "      <td>926.0</td>\n",
              "      <td>GasA</td>\n",
              "      <td>Ex</td>\n",
              "      <td>Y</td>\n",
              "      <td>SBrkr</td>\n",
              "      <td>926</td>\n",
              "      <td>678</td>\n",
              "      <td>0</td>\n",
              "      <td>1604</td>\n",
              "      <td>0.0</td>\n",
              "      <td>0.0</td>\n",
              "      <td>2</td>\n",
              "      <td>1</td>\n",
              "      <td>3</td>\n",
              "      <td>1</td>\n",
              "      <td>Gd</td>\n",
              "      <td>7</td>\n",
              "      <td>Typ</td>\n",
              "      <td>1</td>\n",
              "      <td>Gd</td>\n",
              "      <td>Attchd</td>\n",
              "      <td>1998.0</td>\n",
              "      <td>Fin</td>\n",
              "      <td>2.0</td>\n",
              "      <td>470.0</td>\n",
              "      <td>TA</td>\n",
              "      <td>TA</td>\n",
              "      <td>Y</td>\n",
              "      <td>360</td>\n",
              "      <td>36</td>\n",
              "      <td>0</td>\n",
              "      <td>0</td>\n",
              "      <td>0</td>\n",
              "      <td>0</td>\n",
              "      <td>NaN</td>\n",
              "      <td>NaN</td>\n",
              "      <td>NaN</td>\n",
              "      <td>0</td>\n",
              "      <td>6</td>\n",
              "      <td>2010</td>\n",
              "      <td>WD</td>\n",
              "      <td>Normal</td>\n",
              "    </tr>\n",
              "    <tr>\n",
              "      <th>4</th>\n",
              "      <td>1465</td>\n",
              "      <td>120</td>\n",
              "      <td>RL</td>\n",
              "      <td>43.0</td>\n",
              "      <td>5005</td>\n",
              "      <td>Pave</td>\n",
              "      <td>NaN</td>\n",
              "      <td>IR1</td>\n",
              "      <td>HLS</td>\n",
              "      <td>AllPub</td>\n",
              "      <td>Inside</td>\n",
              "      <td>Gtl</td>\n",
              "      <td>StoneBr</td>\n",
              "      <td>Norm</td>\n",
              "      <td>Norm</td>\n",
              "      <td>TwnhsE</td>\n",
              "      <td>1Story</td>\n",
              "      <td>8</td>\n",
              "      <td>5</td>\n",
              "      <td>1992</td>\n",
              "      <td>1992</td>\n",
              "      <td>Gable</td>\n",
              "      <td>CompShg</td>\n",
              "      <td>HdBoard</td>\n",
              "      <td>HdBoard</td>\n",
              "      <td>None</td>\n",
              "      <td>0.0</td>\n",
              "      <td>Gd</td>\n",
              "      <td>TA</td>\n",
              "      <td>PConc</td>\n",
              "      <td>Gd</td>\n",
              "      <td>TA</td>\n",
              "      <td>No</td>\n",
              "      <td>ALQ</td>\n",
              "      <td>263.0</td>\n",
              "      <td>Unf</td>\n",
              "      <td>0.0</td>\n",
              "      <td>1017.0</td>\n",
              "      <td>1280.0</td>\n",
              "      <td>GasA</td>\n",
              "      <td>Ex</td>\n",
              "      <td>Y</td>\n",
              "      <td>SBrkr</td>\n",
              "      <td>1280</td>\n",
              "      <td>0</td>\n",
              "      <td>0</td>\n",
              "      <td>1280</td>\n",
              "      <td>0.0</td>\n",
              "      <td>0.0</td>\n",
              "      <td>2</td>\n",
              "      <td>0</td>\n",
              "      <td>2</td>\n",
              "      <td>1</td>\n",
              "      <td>Gd</td>\n",
              "      <td>5</td>\n",
              "      <td>Typ</td>\n",
              "      <td>0</td>\n",
              "      <td>NaN</td>\n",
              "      <td>Attchd</td>\n",
              "      <td>1992.0</td>\n",
              "      <td>RFn</td>\n",
              "      <td>2.0</td>\n",
              "      <td>506.0</td>\n",
              "      <td>TA</td>\n",
              "      <td>TA</td>\n",
              "      <td>Y</td>\n",
              "      <td>0</td>\n",
              "      <td>82</td>\n",
              "      <td>0</td>\n",
              "      <td>0</td>\n",
              "      <td>144</td>\n",
              "      <td>0</td>\n",
              "      <td>NaN</td>\n",
              "      <td>NaN</td>\n",
              "      <td>NaN</td>\n",
              "      <td>0</td>\n",
              "      <td>1</td>\n",
              "      <td>2010</td>\n",
              "      <td>WD</td>\n",
              "      <td>Normal</td>\n",
              "    </tr>\n",
              "  </tbody>\n",
              "</table>\n",
              "</div>"
            ],
            "text/plain": [
              "     Id  MSSubClass MSZoning  ...  YrSold  SaleType SaleCondition\n",
              "0  1461          20       RH  ...    2010        WD        Normal\n",
              "1  1462          20       RL  ...    2010        WD        Normal\n",
              "2  1463          60       RL  ...    2010        WD        Normal\n",
              "3  1464          60       RL  ...    2010        WD        Normal\n",
              "4  1465         120       RL  ...    2010        WD        Normal\n",
              "\n",
              "[5 rows x 80 columns]"
            ]
          },
          "metadata": {},
          "execution_count": 45
        }
      ]
    },
    {
      "cell_type": "code",
      "metadata": {
        "id": "jdb9DRnJikwt",
        "colab": {
          "base_uri": "https://localhost:8080/"
        },
        "outputId": "377f1721-7e30-4f93-bcb6-5b2e0e0688fc"
      },
      "source": [
        "test_na = test.isnull().sum()/len(test) * 100\n",
        "test_na = test_na.drop(test_na[test_na == 0].index).sort_values(ascending=False)\n",
        "test_na"
      ],
      "execution_count": null,
      "outputs": [
        {
          "output_type": "execute_result",
          "data": {
            "text/plain": [
              "PoolQC          99.794380\n",
              "MiscFeature     96.504455\n",
              "Alley           92.666210\n",
              "Fence           80.123372\n",
              "FireplaceQu     50.034270\n",
              "LotFrontage     15.558602\n",
              "GarageYrBlt      5.346127\n",
              "GarageCond       5.346127\n",
              "GarageQual       5.346127\n",
              "GarageFinish     5.346127\n",
              "GarageType       5.209047\n",
              "BsmtCond         3.084304\n",
              "BsmtExposure     3.015764\n",
              "BsmtQual         3.015764\n",
              "BsmtFinType1     2.878684\n",
              "BsmtFinType2     2.878684\n",
              "MasVnrType       1.096642\n",
              "MasVnrArea       1.028101\n",
              "MSZoning         0.274160\n",
              "BsmtFullBath     0.137080\n",
              "BsmtHalfBath     0.137080\n",
              "Utilities        0.137080\n",
              "Functional       0.137080\n",
              "Exterior2nd      0.068540\n",
              "Exterior1st      0.068540\n",
              "SaleType         0.068540\n",
              "BsmtFinSF1       0.068540\n",
              "BsmtFinSF2       0.068540\n",
              "BsmtUnfSF        0.068540\n",
              "KitchenQual      0.068540\n",
              "GarageCars       0.068540\n",
              "GarageArea       0.068540\n",
              "TotalBsmtSF      0.068540\n",
              "dtype: float64"
            ]
          },
          "metadata": {},
          "execution_count": 46
        }
      ]
    },
    {
      "cell_type": "code",
      "metadata": {
        "id": "yMnnfBZHik2w"
      },
      "source": [
        "#Similar to the train dataset, let's save the Id column to test_Id and then drop it from the test dataset\n",
        "test_Id = test['Id']\n",
        "test.drop('Id',axis=1,inplace=True)"
      ],
      "execution_count": null,
      "outputs": []
    },
    {
      "cell_type": "markdown",
      "metadata": {
        "id": "o6S6fDEyk8zg"
      },
      "source": [
        "Now it's time to fill the missing values. As I've stated earlier, for some features, NA means None so we'll fill those features with None"
      ]
    },
    {
      "cell_type": "code",
      "metadata": {
        "id": "TMy76K6jlJbv"
      },
      "source": [
        "for col in ('PoolQC', 'MiscFeature', 'Alley', 'Fence','FireplaceQu'):\n",
        "  test[col] = test[col].fillna('None')"
      ],
      "execution_count": null,
      "outputs": []
    },
    {
      "cell_type": "code",
      "metadata": {
        "id": "6wdGv885mTId"
      },
      "source": [
        "test['LotFrontage'] = test.groupby('Neighborhood')['LotFrontage'].transform(lambda x:x.fillna(x.median()))"
      ],
      "execution_count": null,
      "outputs": []
    },
    {
      "cell_type": "code",
      "metadata": {
        "id": "hm46jIsHmija"
      },
      "source": [
        "for col in ('GarageType','GarageFinish','GarageQual','GarageCond'):\n",
        "  test[col] = test[col].fillna('None')"
      ],
      "execution_count": null,
      "outputs": []
    },
    {
      "cell_type": "code",
      "metadata": {
        "id": "T-md0jfXm1hv"
      },
      "source": [
        "for col in ('GarageYrBlt','GarageArea','GarageCars'):\n",
        "  test[col] = test[col].fillna(0)"
      ],
      "execution_count": null,
      "outputs": []
    },
    {
      "cell_type": "code",
      "metadata": {
        "id": "JNBTYZqnm_Ar"
      },
      "source": [
        "for col in ('BsmtFinSF1', 'BsmtFinSF2', 'BsmtUnfSF','TotalBsmtSF', 'BsmtFullBath', 'BsmtHalfBath'):\n",
        "  test[col] = test[col].fillna(0)"
      ],
      "execution_count": null,
      "outputs": []
    },
    {
      "cell_type": "code",
      "metadata": {
        "id": "kDuFCbmdoQVT"
      },
      "source": [
        "for col in ('BsmtQual', 'BsmtCond', 'BsmtExposure', 'BsmtFinType1', 'BsmtFinType2'):\n",
        "  test[col] = test[col].fillna('None')"
      ],
      "execution_count": null,
      "outputs": []
    },
    {
      "cell_type": "code",
      "metadata": {
        "id": "DaGqSfClos48"
      },
      "source": [
        "test['MasVnrType'] = test['MasVnrType'].fillna('None')\n",
        "test['MasVnrArea'] = test['MasVnrArea'].fillna(0)"
      ],
      "execution_count": null,
      "outputs": []
    },
    {
      "cell_type": "code",
      "metadata": {
        "id": "pf8PQEOGouMa"
      },
      "source": [
        "test['MSZoning'] = test['MSZoning'].fillna(test['MSZoning'].mode()[0])"
      ],
      "execution_count": null,
      "outputs": []
    },
    {
      "cell_type": "code",
      "metadata": {
        "id": "t5B08BE1oucT"
      },
      "source": [
        "test = test.drop(['Utilities'], axis =1)"
      ],
      "execution_count": null,
      "outputs": []
    },
    {
      "cell_type": "code",
      "metadata": {
        "id": "qQXxKdmMoumU"
      },
      "source": [
        "test['Functional'] = test['Functional'].fillna('Typ')\n",
        "test['MSSubClass'] = test['MSSubClass'].fillna('None')"
      ],
      "execution_count": null,
      "outputs": []
    },
    {
      "cell_type": "code",
      "metadata": {
        "id": "5vBQAvV4pjqj"
      },
      "source": [
        "for col in ('Electrical', 'KitchenQual', 'Exterior1st', 'Exterior2nd', 'SaleType'):\n",
        "  test[col] = test[col].fillna(test[col].mode()[0])"
      ],
      "execution_count": null,
      "outputs": []
    },
    {
      "cell_type": "code",
      "metadata": {
        "id": "CCc5QF9bp-Wf"
      },
      "source": [
        "cols = ('FireplaceQu', 'BsmtQual', 'BsmtCond', 'GarageQual', 'GarageCond', \n",
        "        'ExterQual', 'ExterCond','HeatingQC', 'PoolQC', 'KitchenQual', 'BsmtFinType1', \n",
        "        'BsmtFinType2', 'Functional', 'Fence', 'BsmtExposure', 'GarageFinish', 'LandSlope',\n",
        "        'LotShape', 'PavedDrive', 'Street', 'Alley', 'CentralAir', 'MSSubClass', 'OverallCond', \n",
        "        'YrSold', 'MoSold')\n",
        "\n",
        "for c in cols:\n",
        "  le.fit(list(test[c].values))\n",
        "  test[c] = le.transform(list(test[c].values))\n"
      ],
      "execution_count": null,
      "outputs": []
    },
    {
      "cell_type": "markdown",
      "metadata": {
        "id": "-dvdvkrzqoAz"
      },
      "source": [
        "### Test dataset - Feature Engineering"
      ]
    },
    {
      "cell_type": "code",
      "metadata": {
        "id": "q5B-oCyEqrqM"
      },
      "source": [
        "for f in ('OverallQual', 'GrLivArea','GarageCars', 'GarageArea'):\n",
        "  test[f+'_p2'] = test[f] **2\n",
        "  test[f+'_p3'] = test[f] **3\n",
        "  test[f+'_psqrt'] = np.sqrt(test[f])\n",
        "\n",
        "#Adding total sqfootage feature\n",
        "test['TotalSF'] = test['TotalBsmtSF'] + test['1stFlrSF'] + test['2ndFlrSF']\n",
        "# test['OverArea'] = test['OverallQual'] * test['GrLivArea']\n",
        "# test['OverArea'] = test['GarageCars'] * test['GarageArea']"
      ],
      "execution_count": null,
      "outputs": []
    },
    {
      "cell_type": "code",
      "metadata": {
        "id": "DJkUL6pDr0AI",
        "colab": {
          "base_uri": "https://localhost:8080/",
          "height": 363
        },
        "outputId": "6cb4d85c-d94e-4310-c298-654198bcd7a1"
      },
      "source": [
        "numeric_feats = test.dtypes[test.dtypes != 'object'].index\n",
        "\n",
        "skewed_feats = test[numeric_feats].apply(lambda x: skew(x.dropna())).sort_values(ascending=False)\n",
        "skewness = pd.DataFrame({'Skew': skewed_feats})\n",
        "skewness.head(10)"
      ],
      "execution_count": null,
      "outputs": [
        {
          "output_type": "execute_result",
          "data": {
            "text/html": [
              "<div>\n",
              "<style scoped>\n",
              "    .dataframe tbody tr th:only-of-type {\n",
              "        vertical-align: middle;\n",
              "    }\n",
              "\n",
              "    .dataframe tbody tr th {\n",
              "        vertical-align: top;\n",
              "    }\n",
              "\n",
              "    .dataframe thead th {\n",
              "        text-align: right;\n",
              "    }\n",
              "</style>\n",
              "<table border=\"1\" class=\"dataframe\">\n",
              "  <thead>\n",
              "    <tr style=\"text-align: right;\">\n",
              "      <th></th>\n",
              "      <th>Skew</th>\n",
              "    </tr>\n",
              "  </thead>\n",
              "  <tbody>\n",
              "    <tr>\n",
              "      <th>PoolArea</th>\n",
              "      <td>20.176117</td>\n",
              "    </tr>\n",
              "    <tr>\n",
              "      <th>MiscVal</th>\n",
              "      <td>20.054543</td>\n",
              "    </tr>\n",
              "    <tr>\n",
              "      <th>LowQualFinSF</th>\n",
              "      <td>16.150628</td>\n",
              "    </tr>\n",
              "    <tr>\n",
              "      <th>3SsnPorch</th>\n",
              "      <td>12.511336</td>\n",
              "    </tr>\n",
              "    <tr>\n",
              "      <th>GrLivArea_p3</th>\n",
              "      <td>8.722995</td>\n",
              "    </tr>\n",
              "    <tr>\n",
              "      <th>LandSlope</th>\n",
              "      <td>4.963280</td>\n",
              "    </tr>\n",
              "    <tr>\n",
              "      <th>EnclosedPorch</th>\n",
              "      <td>4.664371</td>\n",
              "    </tr>\n",
              "    <tr>\n",
              "      <th>GarageArea_p3</th>\n",
              "      <td>4.382002</td>\n",
              "    </tr>\n",
              "    <tr>\n",
              "      <th>KitchenAbvGr</th>\n",
              "      <td>4.074860</td>\n",
              "    </tr>\n",
              "    <tr>\n",
              "      <th>BsmtFinSF2</th>\n",
              "      <td>4.038796</td>\n",
              "    </tr>\n",
              "  </tbody>\n",
              "</table>\n",
              "</div>"
            ],
            "text/plain": [
              "                    Skew\n",
              "PoolArea       20.176117\n",
              "MiscVal        20.054543\n",
              "LowQualFinSF   16.150628\n",
              "3SsnPorch      12.511336\n",
              "GrLivArea_p3    8.722995\n",
              "LandSlope       4.963280\n",
              "EnclosedPorch   4.664371\n",
              "GarageArea_p3   4.382002\n",
              "KitchenAbvGr    4.074860\n",
              "BsmtFinSF2      4.038796"
            ]
          },
          "metadata": {},
          "execution_count": 61
        }
      ]
    },
    {
      "cell_type": "code",
      "metadata": {
        "id": "Kg-2WEhVr2jn",
        "colab": {
          "base_uri": "https://localhost:8080/"
        },
        "outputId": "1caf7bda-0d26-40a1-9e18-282061c2663f"
      },
      "source": [
        "skewness = skewness[abs(skewness) > 0.75]\n",
        "print('There are {} skewed numerical features to Box Cox transform'.format(skewness.shape[0]))\n",
        "\n",
        "skewed_features = skewness.index\n",
        "lam = 0.15\n",
        "for feat in skewed_features:\n",
        "  test[feat] = boxcox1p(test[feat], lam)"
      ],
      "execution_count": null,
      "outputs": [
        {
          "output_type": "stream",
          "name": "stdout",
          "text": [
            "There are 71 skewed numerical features to Box Cox transform\n"
          ]
        }
      ]
    },
    {
      "cell_type": "code",
      "metadata": {
        "id": "FVcizAgms60I",
        "colab": {
          "base_uri": "https://localhost:8080/"
        },
        "outputId": "7915c94b-7de2-4070-92f6-33582fe68f06"
      },
      "source": [
        "print('Test data shape:{}'.format(test.shape))"
      ],
      "execution_count": null,
      "outputs": [
        {
          "output_type": "stream",
          "name": "stdout",
          "text": [
            "Test data shape:(1459, 91)\n"
          ]
        }
      ]
    },
    {
      "cell_type": "code",
      "metadata": {
        "id": "Yjo44ma_s63w",
        "colab": {
          "base_uri": "https://localhost:8080/"
        },
        "outputId": "142ecc57-62bd-47e1-d534-3b3b25ede58b"
      },
      "source": [
        "print('Train data shape: {}'.format(train.shape))"
      ],
      "execution_count": null,
      "outputs": [
        {
          "output_type": "stream",
          "name": "stdout",
          "text": [
            "Train data shape: (1456, 91)\n"
          ]
        }
      ]
    },
    {
      "cell_type": "code",
      "metadata": {
        "id": "WBEK-5Lqs67C"
      },
      "source": [
        "#Save the number of rows for each dataset\n",
        "len_train = train.shape[0]\n",
        "len_test = test.shape[0]"
      ],
      "execution_count": null,
      "outputs": []
    },
    {
      "cell_type": "code",
      "metadata": {
        "id": "9afre1wst3ve"
      },
      "source": [
        "#Let's combine the train and test datasets prior to OHE\n",
        "data = pd.concat((train,test)).reset_index(drop=True)"
      ],
      "execution_count": null,
      "outputs": []
    },
    {
      "cell_type": "code",
      "metadata": {
        "id": "K8RrVeX_t3zc",
        "colab": {
          "base_uri": "https://localhost:8080/"
        },
        "outputId": "824f2c45-3598-43de-b3cd-cdab942dff12"
      },
      "source": [
        "#OHE\n",
        "data = pd.get_dummies(data)\n",
        "print(data.shape)"
      ],
      "execution_count": null,
      "outputs": [
        {
          "output_type": "stream",
          "name": "stdout",
          "text": [
            "(2915, 232)\n"
          ]
        }
      ]
    },
    {
      "cell_type": "code",
      "metadata": {
        "id": "gGw-99ZDt35P",
        "colab": {
          "base_uri": "https://localhost:8080/"
        },
        "outputId": "e53a5175-1156-4c81-e8a0-f9becbba0e45"
      },
      "source": [
        "#Let's split 'data' back to train and test\n",
        "train = data[:len_train]\n",
        "test = data[len_train:]\n",
        "\n",
        "print('Train dataset shape: {}'.format(train.shape))\n",
        "print('Test dataset shape: {}'.format(test.shape))"
      ],
      "execution_count": null,
      "outputs": [
        {
          "output_type": "stream",
          "name": "stdout",
          "text": [
            "Train dataset shape: (1456, 232)\n",
            "Test dataset shape: (1459, 232)\n"
          ]
        }
      ]
    },
    {
      "cell_type": "code",
      "metadata": {
        "id": "KInYT3xoHhyZ"
      },
      "source": [
        "from sklearn.model_selection import train_test_split\n",
        "\n",
        "X_train, X_test, y_train, y_test = train_test_split(train, target, test_size=0.2, random_state=42)"
      ],
      "execution_count": null,
      "outputs": []
    },
    {
      "cell_type": "markdown",
      "metadata": {
        "id": "D2c2FltNyQMh"
      },
      "source": [
        "### Training a Model"
      ]
    },
    {
      "cell_type": "code",
      "metadata": {
        "id": "qciiLesAEQDE"
      },
      "source": [
        "import tensorflow as tf\n",
        "from tensorflow import keras"
      ],
      "execution_count": null,
      "outputs": []
    },
    {
      "cell_type": "code",
      "metadata": {
        "id": "DOknvNgEE9cy",
        "colab": {
          "base_uri": "https://localhost:8080/"
        },
        "outputId": "8f24eade-3807-4180-87b3-0c737daafd84"
      },
      "source": [
        "model = keras.models.Sequential([\n",
        "          keras.layers.Dense(30, activation=\"relu\",\n",
        "          input_shape=train.shape[1:]), keras.layers.Dense(1)\n",
        "])\n",
        "model.compile(loss=\"mean_squared_error\", optimizer=\"adam\")\n",
        "checkpoint_cb = keras.callbacks.ModelCheckpoint(\"my_keras_model.h5\")\n",
        "early_stopping_cb = keras.callbacks.EarlyStopping(patience=10,restore_best_weights=True)\n",
        "history = model.fit(X_train, y_train, epochs=1000, \n",
        "                    validation_data=(X_test,y_test), \n",
        "                    callbacks=[checkpoint_cb, early_stopping_cb])\n",
        "mse_test = model.evaluate(X_test, y_test)"
      ],
      "execution_count": null,
      "outputs": [
        {
          "output_type": "stream",
          "name": "stdout",
          "text": [
            "Epoch 1/1000\n",
            "37/37 [==============================] - 1s 8ms/step - loss: 6.5142 - val_loss: 2.7448\n",
            "Epoch 2/1000\n",
            "37/37 [==============================] - 0s 3ms/step - loss: 1.9656 - val_loss: 1.7091\n",
            "Epoch 3/1000\n",
            "37/37 [==============================] - 0s 2ms/step - loss: 1.2875 - val_loss: 1.1215\n",
            "Epoch 4/1000\n",
            "37/37 [==============================] - 0s 3ms/step - loss: 0.8801 - val_loss: 0.7424\n",
            "Epoch 5/1000\n",
            "37/37 [==============================] - 0s 3ms/step - loss: 0.5784 - val_loss: 0.5144\n",
            "Epoch 6/1000\n",
            "37/37 [==============================] - 0s 3ms/step - loss: 0.3863 - val_loss: 0.3795\n",
            "Epoch 7/1000\n",
            "37/37 [==============================] - 0s 3ms/step - loss: 0.2796 - val_loss: 0.3115\n",
            "Epoch 8/1000\n",
            "37/37 [==============================] - 0s 3ms/step - loss: 0.2224 - val_loss: 0.2216\n",
            "Epoch 9/1000\n",
            "37/37 [==============================] - 0s 3ms/step - loss: 0.1803 - val_loss: 0.1935\n",
            "Epoch 10/1000\n",
            "37/37 [==============================] - 0s 3ms/step - loss: 0.1478 - val_loss: 0.1644\n",
            "Epoch 11/1000\n",
            "37/37 [==============================] - 0s 3ms/step - loss: 0.1391 - val_loss: 0.1388\n",
            "Epoch 12/1000\n",
            "37/37 [==============================] - 0s 3ms/step - loss: 0.1177 - val_loss: 0.1317\n",
            "Epoch 13/1000\n",
            "37/37 [==============================] - 0s 2ms/step - loss: 0.1218 - val_loss: 0.1498\n",
            "Epoch 14/1000\n",
            "37/37 [==============================] - 0s 2ms/step - loss: 0.1134 - val_loss: 0.1526\n",
            "Epoch 15/1000\n",
            "37/37 [==============================] - 0s 3ms/step - loss: 0.1030 - val_loss: 0.1261\n",
            "Epoch 16/1000\n",
            "37/37 [==============================] - 0s 2ms/step - loss: 0.1282 - val_loss: 0.0998\n",
            "Epoch 17/1000\n",
            "37/37 [==============================] - 0s 3ms/step - loss: 0.0858 - val_loss: 0.0926\n",
            "Epoch 18/1000\n",
            "37/37 [==============================] - 0s 2ms/step - loss: 0.0793 - val_loss: 0.0919\n",
            "Epoch 19/1000\n",
            "37/37 [==============================] - 0s 3ms/step - loss: 0.0756 - val_loss: 0.0958\n",
            "Epoch 20/1000\n",
            "37/37 [==============================] - 0s 2ms/step - loss: 0.0713 - val_loss: 0.1100\n",
            "Epoch 21/1000\n",
            "37/37 [==============================] - 0s 3ms/step - loss: 0.0707 - val_loss: 0.0793\n",
            "Epoch 22/1000\n",
            "37/37 [==============================] - 0s 3ms/step - loss: 0.0666 - val_loss: 0.0941\n",
            "Epoch 23/1000\n",
            "37/37 [==============================] - 0s 3ms/step - loss: 0.0629 - val_loss: 0.0739\n",
            "Epoch 24/1000\n",
            "37/37 [==============================] - 0s 3ms/step - loss: 0.0560 - val_loss: 0.0740\n",
            "Epoch 25/1000\n",
            "37/37 [==============================] - 0s 2ms/step - loss: 0.0541 - val_loss: 0.0737\n",
            "Epoch 26/1000\n",
            "37/37 [==============================] - 0s 3ms/step - loss: 0.0581 - val_loss: 0.0670\n",
            "Epoch 27/1000\n",
            "37/37 [==============================] - 0s 3ms/step - loss: 0.0515 - val_loss: 0.0950\n",
            "Epoch 28/1000\n",
            "37/37 [==============================] - 0s 3ms/step - loss: 0.0547 - val_loss: 0.0905\n",
            "Epoch 29/1000\n",
            "37/37 [==============================] - 0s 3ms/step - loss: 0.0537 - val_loss: 0.0643\n",
            "Epoch 30/1000\n",
            "37/37 [==============================] - 0s 3ms/step - loss: 0.0458 - val_loss: 0.0811\n",
            "Epoch 31/1000\n",
            "37/37 [==============================] - 0s 3ms/step - loss: 0.0482 - val_loss: 0.0583\n",
            "Epoch 32/1000\n",
            "37/37 [==============================] - 0s 3ms/step - loss: 0.0444 - val_loss: 0.0622\n",
            "Epoch 33/1000\n",
            "37/37 [==============================] - 0s 2ms/step - loss: 0.0406 - val_loss: 0.0630\n",
            "Epoch 34/1000\n",
            "37/37 [==============================] - 0s 3ms/step - loss: 0.0524 - val_loss: 0.1106\n",
            "Epoch 35/1000\n",
            "37/37 [==============================] - 0s 3ms/step - loss: 0.0544 - val_loss: 0.0559\n",
            "Epoch 36/1000\n",
            "37/37 [==============================] - 0s 2ms/step - loss: 0.0424 - val_loss: 0.0850\n",
            "Epoch 37/1000\n",
            "37/37 [==============================] - 0s 2ms/step - loss: 0.0394 - val_loss: 0.0538\n",
            "Epoch 38/1000\n",
            "37/37 [==============================] - 0s 2ms/step - loss: 0.0370 - val_loss: 0.0785\n",
            "Epoch 39/1000\n",
            "37/37 [==============================] - 0s 3ms/step - loss: 0.0371 - val_loss: 0.0483\n",
            "Epoch 40/1000\n",
            "37/37 [==============================] - 0s 3ms/step - loss: 0.0320 - val_loss: 0.0481\n",
            "Epoch 41/1000\n",
            "37/37 [==============================] - 0s 3ms/step - loss: 0.0505 - val_loss: 0.0488\n",
            "Epoch 42/1000\n",
            "37/37 [==============================] - 0s 3ms/step - loss: 0.0393 - val_loss: 0.0476\n",
            "Epoch 43/1000\n",
            "37/37 [==============================] - 0s 2ms/step - loss: 0.0297 - val_loss: 0.0629\n",
            "Epoch 44/1000\n",
            "37/37 [==============================] - 0s 3ms/step - loss: 0.0343 - val_loss: 0.0675\n",
            "Epoch 45/1000\n",
            "37/37 [==============================] - 0s 3ms/step - loss: 0.0352 - val_loss: 0.0437\n",
            "Epoch 46/1000\n",
            "37/37 [==============================] - 0s 2ms/step - loss: 0.0260 - val_loss: 0.0433\n",
            "Epoch 47/1000\n",
            "37/37 [==============================] - 0s 3ms/step - loss: 0.0285 - val_loss: 0.0630\n",
            "Epoch 48/1000\n",
            "37/37 [==============================] - 0s 3ms/step - loss: 0.0275 - val_loss: 0.0397\n",
            "Epoch 49/1000\n",
            "37/37 [==============================] - 0s 3ms/step - loss: 0.0276 - val_loss: 0.0449\n",
            "Epoch 50/1000\n",
            "37/37 [==============================] - 0s 2ms/step - loss: 0.0260 - val_loss: 0.0595\n",
            "Epoch 51/1000\n",
            "37/37 [==============================] - 0s 2ms/step - loss: 0.0325 - val_loss: 0.0369\n",
            "Epoch 52/1000\n",
            "37/37 [==============================] - 0s 3ms/step - loss: 0.0239 - val_loss: 0.0486\n",
            "Epoch 53/1000\n",
            "37/37 [==============================] - 0s 3ms/step - loss: 0.0230 - val_loss: 0.0357\n",
            "Epoch 54/1000\n",
            "37/37 [==============================] - 0s 3ms/step - loss: 0.0244 - val_loss: 0.0360\n",
            "Epoch 55/1000\n",
            "37/37 [==============================] - 0s 3ms/step - loss: 0.0260 - val_loss: 0.0736\n",
            "Epoch 56/1000\n",
            "37/37 [==============================] - 0s 3ms/step - loss: 0.0253 - val_loss: 0.0378\n",
            "Epoch 57/1000\n",
            "37/37 [==============================] - 0s 3ms/step - loss: 0.0302 - val_loss: 0.0381\n",
            "Epoch 58/1000\n",
            "37/37 [==============================] - 0s 2ms/step - loss: 0.0196 - val_loss: 0.0371\n",
            "Epoch 59/1000\n",
            "37/37 [==============================] - 0s 3ms/step - loss: 0.0233 - val_loss: 0.0405\n",
            "Epoch 60/1000\n",
            "37/37 [==============================] - 0s 2ms/step - loss: 0.0212 - val_loss: 0.0320\n",
            "Epoch 61/1000\n",
            "37/37 [==============================] - 0s 3ms/step - loss: 0.0282 - val_loss: 0.0467\n",
            "Epoch 62/1000\n",
            "37/37 [==============================] - 0s 3ms/step - loss: 0.0352 - val_loss: 0.0744\n",
            "Epoch 63/1000\n",
            "37/37 [==============================] - 0s 2ms/step - loss: 0.0231 - val_loss: 0.0310\n",
            "Epoch 64/1000\n",
            "37/37 [==============================] - 0s 3ms/step - loss: 0.0172 - val_loss: 0.0298\n",
            "Epoch 65/1000\n",
            "37/37 [==============================] - 0s 2ms/step - loss: 0.0197 - val_loss: 0.0323\n",
            "Epoch 66/1000\n",
            "37/37 [==============================] - 0s 3ms/step - loss: 0.0188 - val_loss: 0.0292\n",
            "Epoch 67/1000\n",
            "37/37 [==============================] - 0s 3ms/step - loss: 0.0186 - val_loss: 0.0286\n",
            "Epoch 68/1000\n",
            "37/37 [==============================] - 0s 3ms/step - loss: 0.0175 - val_loss: 0.0319\n",
            "Epoch 69/1000\n",
            "37/37 [==============================] - 0s 3ms/step - loss: 0.0181 - val_loss: 0.0332\n",
            "Epoch 70/1000\n",
            "37/37 [==============================] - 0s 3ms/step - loss: 0.0199 - val_loss: 0.0289\n",
            "Epoch 71/1000\n",
            "37/37 [==============================] - 0s 3ms/step - loss: 0.0172 - val_loss: 0.0313\n",
            "Epoch 72/1000\n",
            "37/37 [==============================] - 0s 3ms/step - loss: 0.0206 - val_loss: 0.0307\n",
            "Epoch 73/1000\n",
            "37/37 [==============================] - 0s 3ms/step - loss: 0.0153 - val_loss: 0.0282\n",
            "Epoch 74/1000\n",
            "37/37 [==============================] - 0s 3ms/step - loss: 0.0169 - val_loss: 0.0272\n",
            "Epoch 75/1000\n",
            "37/37 [==============================] - 0s 3ms/step - loss: 0.0255 - val_loss: 0.0274\n",
            "Epoch 76/1000\n",
            "37/37 [==============================] - 0s 3ms/step - loss: 0.0179 - val_loss: 0.0313\n",
            "Epoch 77/1000\n",
            "37/37 [==============================] - 0s 3ms/step - loss: 0.0344 - val_loss: 0.0591\n",
            "Epoch 78/1000\n",
            "37/37 [==============================] - 0s 3ms/step - loss: 0.0218 - val_loss: 0.0309\n",
            "Epoch 79/1000\n",
            "37/37 [==============================] - 0s 3ms/step - loss: 0.0227 - val_loss: 0.0270\n",
            "Epoch 80/1000\n",
            "37/37 [==============================] - 0s 3ms/step - loss: 0.0237 - val_loss: 0.0301\n",
            "Epoch 81/1000\n",
            "37/37 [==============================] - 0s 3ms/step - loss: 0.0169 - val_loss: 0.0390\n",
            "Epoch 82/1000\n",
            "37/37 [==============================] - 0s 3ms/step - loss: 0.0191 - val_loss: 0.0251\n",
            "Epoch 83/1000\n",
            "37/37 [==============================] - 0s 3ms/step - loss: 0.0167 - val_loss: 0.0482\n",
            "Epoch 84/1000\n",
            "37/37 [==============================] - 0s 3ms/step - loss: 0.0265 - val_loss: 0.0256\n",
            "Epoch 85/1000\n",
            "37/37 [==============================] - 0s 3ms/step - loss: 0.0140 - val_loss: 0.0290\n",
            "Epoch 86/1000\n",
            "37/37 [==============================] - 0s 3ms/step - loss: 0.0135 - val_loss: 0.0308\n",
            "Epoch 87/1000\n",
            "37/37 [==============================] - 0s 3ms/step - loss: 0.0159 - val_loss: 0.0238\n",
            "Epoch 88/1000\n",
            "37/37 [==============================] - 0s 3ms/step - loss: 0.0177 - val_loss: 0.0280\n",
            "Epoch 89/1000\n",
            "37/37 [==============================] - 0s 3ms/step - loss: 0.0143 - val_loss: 0.0253\n",
            "Epoch 90/1000\n",
            "37/37 [==============================] - 0s 2ms/step - loss: 0.0182 - val_loss: 0.0230\n",
            "Epoch 91/1000\n",
            "37/37 [==============================] - 0s 3ms/step - loss: 0.0144 - val_loss: 0.0250\n",
            "Epoch 92/1000\n",
            "37/37 [==============================] - 0s 3ms/step - loss: 0.0143 - val_loss: 0.0314\n",
            "Epoch 93/1000\n",
            "37/37 [==============================] - 0s 3ms/step - loss: 0.0194 - val_loss: 0.0313\n",
            "Epoch 94/1000\n",
            "37/37 [==============================] - 0s 2ms/step - loss: 0.0161 - val_loss: 0.0231\n",
            "Epoch 95/1000\n",
            "37/37 [==============================] - 0s 3ms/step - loss: 0.0130 - val_loss: 0.0308\n",
            "Epoch 96/1000\n",
            "37/37 [==============================] - 0s 3ms/step - loss: 0.0145 - val_loss: 0.0330\n",
            "Epoch 97/1000\n",
            "37/37 [==============================] - 0s 3ms/step - loss: 0.0146 - val_loss: 0.0224\n",
            "Epoch 98/1000\n",
            "37/37 [==============================] - 0s 2ms/step - loss: 0.0212 - val_loss: 0.0397\n",
            "Epoch 99/1000\n",
            "37/37 [==============================] - 0s 3ms/step - loss: 0.0174 - val_loss: 0.0622\n",
            "Epoch 100/1000\n",
            "37/37 [==============================] - 0s 3ms/step - loss: 0.0159 - val_loss: 0.0272\n",
            "Epoch 101/1000\n",
            "37/37 [==============================] - 0s 3ms/step - loss: 0.0144 - val_loss: 0.0230\n",
            "Epoch 102/1000\n",
            "37/37 [==============================] - 0s 2ms/step - loss: 0.0146 - val_loss: 0.0529\n",
            "Epoch 103/1000\n",
            "37/37 [==============================] - 0s 3ms/step - loss: 0.0158 - val_loss: 0.0252\n",
            "Epoch 104/1000\n",
            "37/37 [==============================] - 0s 3ms/step - loss: 0.0152 - val_loss: 0.0236\n",
            "Epoch 105/1000\n",
            "37/37 [==============================] - 0s 3ms/step - loss: 0.0135 - val_loss: 0.0316\n",
            "Epoch 106/1000\n",
            "37/37 [==============================] - 0s 3ms/step - loss: 0.0195 - val_loss: 0.0245\n",
            "Epoch 107/1000\n",
            "37/37 [==============================] - 0s 3ms/step - loss: 0.0164 - val_loss: 0.0341\n",
            "10/10 [==============================] - 0s 2ms/step - loss: 0.0224\n"
          ]
        }
      ]
    },
    {
      "cell_type": "code",
      "metadata": {
        "colab": {
          "base_uri": "https://localhost:8080/",
          "height": 324
        },
        "id": "S0hKjljIJLKg",
        "outputId": "63a73ae0-4db5-43c1-e96a-c4faa578945b"
      },
      "source": [
        "pd.DataFrame(history.history).plot(figsize=(8,5))\n",
        "plt.grid(True)\n",
        "plt.gca().set_ylim(0,1)\n",
        "plt.show()"
      ],
      "execution_count": null,
      "outputs": [
        {
          "output_type": "display_data",
          "data": {
            "image/png": "[encoded data removed]",
            "text/plain": [
              "<Figure size 576x360 with 1 Axes>"
            ]
          },
          "metadata": {}
        }
      ]
    },
    {
      "cell_type": "code",
      "metadata": {
        "colab": {
          "base_uri": "https://localhost:8080/"
        },
        "id": "d5tCeawRKYtx",
        "outputId": "b5cd56b9-be77-444c-a684-de7613d2535c"
      },
      "source": [
        "mse_test"
      ],
      "execution_count": null,
      "outputs": [
        {
          "output_type": "execute_result",
          "data": {
            "text/plain": [
              "0.02238290198147297"
            ]
          },
          "metadata": {},
          "execution_count": 104
        }
      ]
    },
    {
      "cell_type": "code",
      "metadata": {
        "id": "wqYliyAtKFMu"
      },
      "source": [
        "preds = np.expm1(model.predict(test))"
      ],
      "execution_count": null,
      "outputs": []
    },
    {
      "cell_type": "code",
      "metadata": {
        "id": "BNtpRrJ-Kiij"
      },
      "source": [
        "preds = preds.ravel()"
      ],
      "execution_count": null,
      "outputs": []
    },
    {
      "cell_type": "code",
      "metadata": {
        "id": "TkLIAcw54kKB"
      },
      "source": [
        "output = pd.DataFrame({'Id':test_Id,'SalePrice':preds})\n",
        "output.to_csv('submission.csv',index=False)"
      ],
      "execution_count": null,
      "outputs": []
    },
    {
      "cell_type": "code",
      "metadata": {
        "id": "PysVcHZ4KgMH"
      },
      "source": [
        ""
      ],
      "execution_count": null,
      "outputs": []
    }
  ]
}