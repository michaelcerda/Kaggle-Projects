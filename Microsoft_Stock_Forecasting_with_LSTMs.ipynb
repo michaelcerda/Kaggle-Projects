{
  "nbformat": 4,
  "nbformat_minor": 0,
  "metadata": {
    "colab": {
      "provenance": [],
      "mount_file_id": "1cL6ggh6uahn3VNBzJHW0u_5CnNgpw6DF",
      "authorship_tag": "ABX9TyP2puTgQjuhkWSg+/+5zUTN",
      "include_colab_link": true
    },
    "kernelspec": {
      "name": "python3",
      "display_name": "Python 3"
    },
    "language_info": {
      "name": "python"
    },
    "accelerator": "GPU",
    "gpuClass": "standard"
  },
  "cells": [
    {
      "cell_type": "markdown",
      "metadata": {
        "id": "view-in-github",
        "colab_type": "text"
      },
      "source": [
        "<a href=\"https://colab.research.google.com/github/michaelcerda/Kaggle-Projects/blob/main/Microsoft_Stock_Forecasting_with_LSTMs.ipynb\" target=\"_parent\"><img src=\"https://colab.research.google.com/assets/colab-badge.svg\" alt=\"Open In Colab\"/></a>"
      ]
    },
    {
      "cell_type": "code",
      "execution_count": null,
      "metadata": {
        "id": "I-KrlMNid7Qz"
      },
      "outputs": [],
      "source": [
        "import pandas as pd"
      ]
    },
    {
      "cell_type": "code",
      "source": [
        "df = pd.read_csv('/content/drive/MyDrive/Time Series Forecasting/MSFT.csv')"
      ],
      "metadata": {
        "id": "VZIv4j5eeE8_"
      },
      "execution_count": null,
      "outputs": []
    },
    {
      "cell_type": "code",
      "source": [
        "df"
      ],
      "metadata": {
        "colab": {
          "base_uri": "https://localhost:8080/",
          "height": 641
        },
        "id": "IlxSUM9HeRf6",
        "outputId": "cae8b0ea-bb67-452a-8f1c-a699a8df56c2"
      },
      "execution_count": null,
      "outputs": [
        {
          "output_type": "execute_result",
          "data": {
            "text/plain": [
              "            Date        Open        High         Low       Close   Adj Close  \\\n",
              "0     1986-03-13    0.088542    0.101563    0.088542    0.097222    0.060980   \n",
              "1     1986-03-14    0.097222    0.102431    0.097222    0.100694    0.063158   \n",
              "2     1986-03-17    0.100694    0.103299    0.100694    0.102431    0.064247   \n",
              "3     1986-03-18    0.102431    0.103299    0.098958    0.099826    0.062613   \n",
              "4     1986-03-19    0.099826    0.100694    0.097222    0.098090    0.061524   \n",
              "...          ...         ...         ...         ...         ...         ...   \n",
              "9185  2022-08-22  282.079987  282.459991  277.220001  277.750000  277.750000   \n",
              "9186  2022-08-23  276.440002  278.859985  275.399994  276.440002  276.440002   \n",
              "9187  2022-08-24  275.410004  277.230011  275.109985  275.790009  275.790009   \n",
              "9188  2022-08-25  277.329987  279.019989  274.519989  278.850006  278.850006   \n",
              "9189  2022-08-26  279.079987  280.339996  267.980011  268.089996  268.089996   \n",
              "\n",
              "          Volume  \n",
              "0     1031788800  \n",
              "1      308160000  \n",
              "2      133171200  \n",
              "3       67766400  \n",
              "4       47894400  \n",
              "...          ...  \n",
              "9185    25061100  \n",
              "9186    17527400  \n",
              "9187    18137000  \n",
              "9188    16583400  \n",
              "9189    27532500  \n",
              "\n",
              "[9190 rows x 7 columns]"
            ],
            "text/html": [
              "\n",
              "  <div id=\"df-7115d2c0-1778-400e-b657-9d02e2a339e3\">\n",
              "    <div class=\"colab-df-container\">\n",
              "      <div>\n",
              "<style scoped>\n",
              "    .dataframe tbody tr th:only-of-type {\n",
              "        vertical-align: middle;\n",
              "    }\n",
              "\n",
              "    .dataframe tbody tr th {\n",
              "        vertical-align: top;\n",
              "    }\n",
              "\n",
              "    .dataframe thead th {\n",
              "        text-align: right;\n",
              "    }\n",
              "</style>\n",
              "<table border=\"1\" class=\"dataframe\">\n",
              "  <thead>\n",
              "    <tr style=\"text-align: right;\">\n",
              "      <th></th>\n",
              "      <th>Date</th>\n",
              "      <th>Open</th>\n",
              "      <th>High</th>\n",
              "      <th>Low</th>\n",
              "      <th>Close</th>\n",
              "      <th>Adj Close</th>\n",
              "      <th>Volume</th>\n",
              "    </tr>\n",
              "  </thead>\n",
              "  <tbody>\n",
              "    <tr>\n",
              "      <th>0</th>\n",
              "      <td>1986-03-13</td>\n",
              "      <td>0.088542</td>\n",
              "      <td>0.101563</td>\n",
              "      <td>0.088542</td>\n",
              "      <td>0.097222</td>\n",
              "      <td>0.060980</td>\n",
              "      <td>1031788800</td>\n",
              "    </tr>\n",
              "    <tr>\n",
              "      <th>1</th>\n",
              "      <td>1986-03-14</td>\n",
              "      <td>0.097222</td>\n",
              "      <td>0.102431</td>\n",
              "      <td>0.097222</td>\n",
              "      <td>0.100694</td>\n",
              "      <td>0.063158</td>\n",
              "      <td>308160000</td>\n",
              "    </tr>\n",
              "    <tr>\n",
              "      <th>2</th>\n",
              "      <td>1986-03-17</td>\n",
              "      <td>0.100694</td>\n",
              "      <td>0.103299</td>\n",
              "      <td>0.100694</td>\n",
              "      <td>0.102431</td>\n",
              "      <td>0.064247</td>\n",
              "      <td>133171200</td>\n",
              "    </tr>\n",
              "    <tr>\n",
              "      <th>3</th>\n",
              "      <td>1986-03-18</td>\n",
              "      <td>0.102431</td>\n",
              "      <td>0.103299</td>\n",
              "      <td>0.098958</td>\n",
              "      <td>0.099826</td>\n",
              "      <td>0.062613</td>\n",
              "      <td>67766400</td>\n",
              "    </tr>\n",
              "    <tr>\n",
              "      <th>4</th>\n",
              "      <td>1986-03-19</td>\n",
              "      <td>0.099826</td>\n",
              "      <td>0.100694</td>\n",
              "      <td>0.097222</td>\n",
              "      <td>0.098090</td>\n",
              "      <td>0.061524</td>\n",
              "      <td>47894400</td>\n",
              "    </tr>\n",
              "    <tr>\n",
              "      <th>...</th>\n",
              "      <td>...</td>\n",
              "      <td>...</td>\n",
              "      <td>...</td>\n",
              "      <td>...</td>\n",
              "      <td>...</td>\n",
              "      <td>...</td>\n",
              "      <td>...</td>\n",
              "    </tr>\n",
              "    <tr>\n",
              "      <th>9185</th>\n",
              "      <td>2022-08-22</td>\n",
              "      <td>282.079987</td>\n",
              "      <td>282.459991</td>\n",
              "      <td>277.220001</td>\n",
              "      <td>277.750000</td>\n",
              "      <td>277.750000</td>\n",
              "      <td>25061100</td>\n",
              "    </tr>\n",
              "    <tr>\n",
              "      <th>9186</th>\n",
              "      <td>2022-08-23</td>\n",
              "      <td>276.440002</td>\n",
              "      <td>278.859985</td>\n",
              "      <td>275.399994</td>\n",
              "      <td>276.440002</td>\n",
              "      <td>276.440002</td>\n",
              "      <td>17527400</td>\n",
              "    </tr>\n",
              "    <tr>\n",
              "      <th>9187</th>\n",
              "      <td>2022-08-24</td>\n",
              "      <td>275.410004</td>\n",
              "      <td>277.230011</td>\n",
              "      <td>275.109985</td>\n",
              "      <td>275.790009</td>\n",
              "      <td>275.790009</td>\n",
              "      <td>18137000</td>\n",
              "    </tr>\n",
              "    <tr>\n",
              "      <th>9188</th>\n",
              "      <td>2022-08-25</td>\n",
              "      <td>277.329987</td>\n",
              "      <td>279.019989</td>\n",
              "      <td>274.519989</td>\n",
              "      <td>278.850006</td>\n",
              "      <td>278.850006</td>\n",
              "      <td>16583400</td>\n",
              "    </tr>\n",
              "    <tr>\n",
              "      <th>9189</th>\n",
              "      <td>2022-08-26</td>\n",
              "      <td>279.079987</td>\n",
              "      <td>280.339996</td>\n",
              "      <td>267.980011</td>\n",
              "      <td>268.089996</td>\n",
              "      <td>268.089996</td>\n",
              "      <td>27532500</td>\n",
              "    </tr>\n",
              "  </tbody>\n",
              "</table>\n",
              "<p>9190 rows × 7 columns</p>\n",
              "</div>\n",
              "      <button class=\"colab-df-convert\" onclick=\"convertToInteractive('df-7115d2c0-1778-400e-b657-9d02e2a339e3')\"\n",
              "              title=\"Convert this dataframe to an interactive table.\"\n",
              "              style=\"display:none;\">\n",
              "        \n",
              "  <svg xmlns=\"http://www.w3.org/2000/svg\" height=\"24px\"viewBox=\"0 0 24 24\"\n",
              "       width=\"24px\">\n",
              "    <path d=\"M0 0h24v24H0V0z\" fill=\"none\"/>\n",
              "    <path d=\"M18.56 5.44l.94 2.06.94-2.06 2.06-.94-2.06-.94-.94-2.06-.94 2.06-2.06.94zm-11 1L8.5 8.5l.94-2.06 2.06-.94-2.06-.94L8.5 2.5l-.94 2.06-2.06.94zm10 10l.94 2.06.94-2.06 2.06-.94-2.06-.94-.94-2.06-.94 2.06-2.06.94z\"/><path d=\"M17.41 7.96l-1.37-1.37c-.4-.4-.92-.59-1.43-.59-.52 0-1.04.2-1.43.59L10.3 9.45l-7.72 7.72c-.78.78-.78 2.05 0 2.83L4 21.41c.39.39.9.59 1.41.59.51 0 1.02-.2 1.41-.59l7.78-7.78 2.81-2.81c.8-.78.8-2.07 0-2.86zM5.41 20L4 18.59l7.72-7.72 1.47 1.35L5.41 20z\"/>\n",
              "  </svg>\n",
              "      </button>\n",
              "      \n",
              "  <style>\n",
              "    .colab-df-container {\n",
              "      display:flex;\n",
              "      flex-wrap:wrap;\n",
              "      gap: 12px;\n",
              "    }\n",
              "\n",
              "    .colab-df-convert {\n",
              "      background-color: #E8F0FE;\n",
              "      border: none;\n",
              "      border-radius: 50%;\n",
              "      cursor: pointer;\n",
              "      display: none;\n",
              "      fill: #1967D2;\n",
              "      height: 32px;\n",
              "      padding: 0 0 0 0;\n",
              "      width: 32px;\n",
              "    }\n",
              "\n",
              "    .colab-df-convert:hover {\n",
              "      background-color: #E2EBFA;\n",
              "      box-shadow: 0px 1px 2px rgba(60, 64, 67, 0.3), 0px 1px 3px 1px rgba(60, 64, 67, 0.15);\n",
              "      fill: #174EA6;\n",
              "    }\n",
              "\n",
              "    [theme=dark] .colab-df-convert {\n",
              "      background-color: #3B4455;\n",
              "      fill: #D2E3FC;\n",
              "    }\n",
              "\n",
              "    [theme=dark] .colab-df-convert:hover {\n",
              "      background-color: #434B5C;\n",
              "      box-shadow: 0px 1px 3px 1px rgba(0, 0, 0, 0.15);\n",
              "      filter: drop-shadow(0px 1px 2px rgba(0, 0, 0, 0.3));\n",
              "      fill: #FFFFFF;\n",
              "    }\n",
              "  </style>\n",
              "\n",
              "      <script>\n",
              "        const buttonEl =\n",
              "          document.querySelector('#df-7115d2c0-1778-400e-b657-9d02e2a339e3 button.colab-df-convert');\n",
              "        buttonEl.style.display =\n",
              "          google.colab.kernel.accessAllowed ? 'block' : 'none';\n",
              "\n",
              "        async function convertToInteractive(key) {\n",
              "          const element = document.querySelector('#df-7115d2c0-1778-400e-b657-9d02e2a339e3');\n",
              "          const dataTable =\n",
              "            await google.colab.kernel.invokeFunction('convertToInteractive',\n",
              "                                                     [key], {});\n",
              "          if (!dataTable) return;\n",
              "\n",
              "          const docLinkHtml = 'Like what you see? Visit the ' +\n",
              "            '<a target=\"_blank\" href=https://colab.research.google.com/notebooks/data_table.ipynb>data table notebook</a>'\n",
              "            + ' to learn more about interactive tables.';\n",
              "          element.innerHTML = '';\n",
              "          dataTable['output_type'] = 'display_data';\n",
              "          await google.colab.output.renderOutput(dataTable, element);\n",
              "          const docLink = document.createElement('div');\n",
              "          docLink.innerHTML = docLinkHtml;\n",
              "          element.appendChild(docLink);\n",
              "        }\n",
              "      </script>\n",
              "    </div>\n",
              "  </div>\n",
              "  "
            ]
          },
          "metadata": {},
          "execution_count": 23
        }
      ]
    },
    {
      "cell_type": "code",
      "source": [
        "df = df[['Date', 'Close']]"
      ],
      "metadata": {
        "id": "Hrs764EgeSPH"
      },
      "execution_count": null,
      "outputs": []
    },
    {
      "cell_type": "code",
      "source": [
        "df"
      ],
      "metadata": {
        "colab": {
          "base_uri": "https://localhost:8080/",
          "height": 424
        },
        "id": "0dQZYvxZeY_G",
        "outputId": "7bc5d6c4-fb7c-4025-b0d7-f8ef6978b660"
      },
      "execution_count": null,
      "outputs": [
        {
          "output_type": "execute_result",
          "data": {
            "text/plain": [
              "            Date       Close\n",
              "0     1986-03-13    0.097222\n",
              "1     1986-03-14    0.100694\n",
              "2     1986-03-17    0.102431\n",
              "3     1986-03-18    0.099826\n",
              "4     1986-03-19    0.098090\n",
              "...          ...         ...\n",
              "9185  2022-08-22  277.750000\n",
              "9186  2022-08-23  276.440002\n",
              "9187  2022-08-24  275.790009\n",
              "9188  2022-08-25  278.850006\n",
              "9189  2022-08-26  268.089996\n",
              "\n",
              "[9190 rows x 2 columns]"
            ],
            "text/html": [
              "\n",
              "  <div id=\"df-31683345-d070-4bd8-a509-4bbfa7ffd3d2\">\n",
              "    <div class=\"colab-df-container\">\n",
              "      <div>\n",
              "<style scoped>\n",
              "    .dataframe tbody tr th:only-of-type {\n",
              "        vertical-align: middle;\n",
              "    }\n",
              "\n",
              "    .dataframe tbody tr th {\n",
              "        vertical-align: top;\n",
              "    }\n",
              "\n",
              "    .dataframe thead th {\n",
              "        text-align: right;\n",
              "    }\n",
              "</style>\n",
              "<table border=\"1\" class=\"dataframe\">\n",
              "  <thead>\n",
              "    <tr style=\"text-align: right;\">\n",
              "      <th></th>\n",
              "      <th>Date</th>\n",
              "      <th>Close</th>\n",
              "    </tr>\n",
              "  </thead>\n",
              "  <tbody>\n",
              "    <tr>\n",
              "      <th>0</th>\n",
              "      <td>1986-03-13</td>\n",
              "      <td>0.097222</td>\n",
              "    </tr>\n",
              "    <tr>\n",
              "      <th>1</th>\n",
              "      <td>1986-03-14</td>\n",
              "      <td>0.100694</td>\n",
              "    </tr>\n",
              "    <tr>\n",
              "      <th>2</th>\n",
              "      <td>1986-03-17</td>\n",
              "      <td>0.102431</td>\n",
              "    </tr>\n",
              "    <tr>\n",
              "      <th>3</th>\n",
              "      <td>1986-03-18</td>\n",
              "      <td>0.099826</td>\n",
              "    </tr>\n",
              "    <tr>\n",
              "      <th>4</th>\n",
              "      <td>1986-03-19</td>\n",
              "      <td>0.098090</td>\n",
              "    </tr>\n",
              "    <tr>\n",
              "      <th>...</th>\n",
              "      <td>...</td>\n",
              "      <td>...</td>\n",
              "    </tr>\n",
              "    <tr>\n",
              "      <th>9185</th>\n",
              "      <td>2022-08-22</td>\n",
              "      <td>277.750000</td>\n",
              "    </tr>\n",
              "    <tr>\n",
              "      <th>9186</th>\n",
              "      <td>2022-08-23</td>\n",
              "      <td>276.440002</td>\n",
              "    </tr>\n",
              "    <tr>\n",
              "      <th>9187</th>\n",
              "      <td>2022-08-24</td>\n",
              "      <td>275.790009</td>\n",
              "    </tr>\n",
              "    <tr>\n",
              "      <th>9188</th>\n",
              "      <td>2022-08-25</td>\n",
              "      <td>278.850006</td>\n",
              "    </tr>\n",
              "    <tr>\n",
              "      <th>9189</th>\n",
              "      <td>2022-08-26</td>\n",
              "      <td>268.089996</td>\n",
              "    </tr>\n",
              "  </tbody>\n",
              "</table>\n",
              "<p>9190 rows × 2 columns</p>\n",
              "</div>\n",
              "      <button class=\"colab-df-convert\" onclick=\"convertToInteractive('df-31683345-d070-4bd8-a509-4bbfa7ffd3d2')\"\n",
              "              title=\"Convert this dataframe to an interactive table.\"\n",
              "              style=\"display:none;\">\n",
              "        \n",
              "  <svg xmlns=\"http://www.w3.org/2000/svg\" height=\"24px\"viewBox=\"0 0 24 24\"\n",
              "       width=\"24px\">\n",
              "    <path d=\"M0 0h24v24H0V0z\" fill=\"none\"/>\n",
              "    <path d=\"M18.56 5.44l.94 2.06.94-2.06 2.06-.94-2.06-.94-.94-2.06-.94 2.06-2.06.94zm-11 1L8.5 8.5l.94-2.06 2.06-.94-2.06-.94L8.5 2.5l-.94 2.06-2.06.94zm10 10l.94 2.06.94-2.06 2.06-.94-2.06-.94-.94-2.06-.94 2.06-2.06.94z\"/><path d=\"M17.41 7.96l-1.37-1.37c-.4-.4-.92-.59-1.43-.59-.52 0-1.04.2-1.43.59L10.3 9.45l-7.72 7.72c-.78.78-.78 2.05 0 2.83L4 21.41c.39.39.9.59 1.41.59.51 0 1.02-.2 1.41-.59l7.78-7.78 2.81-2.81c.8-.78.8-2.07 0-2.86zM5.41 20L4 18.59l7.72-7.72 1.47 1.35L5.41 20z\"/>\n",
              "  </svg>\n",
              "      </button>\n",
              "      \n",
              "  <style>\n",
              "    .colab-df-container {\n",
              "      display:flex;\n",
              "      flex-wrap:wrap;\n",
              "      gap: 12px;\n",
              "    }\n",
              "\n",
              "    .colab-df-convert {\n",
              "      background-color: #E8F0FE;\n",
              "      border: none;\n",
              "      border-radius: 50%;\n",
              "      cursor: pointer;\n",
              "      display: none;\n",
              "      fill: #1967D2;\n",
              "      height: 32px;\n",
              "      padding: 0 0 0 0;\n",
              "      width: 32px;\n",
              "    }\n",
              "\n",
              "    .colab-df-convert:hover {\n",
              "      background-color: #E2EBFA;\n",
              "      box-shadow: 0px 1px 2px rgba(60, 64, 67, 0.3), 0px 1px 3px 1px rgba(60, 64, 67, 0.15);\n",
              "      fill: #174EA6;\n",
              "    }\n",
              "\n",
              "    [theme=dark] .colab-df-convert {\n",
              "      background-color: #3B4455;\n",
              "      fill: #D2E3FC;\n",
              "    }\n",
              "\n",
              "    [theme=dark] .colab-df-convert:hover {\n",
              "      background-color: #434B5C;\n",
              "      box-shadow: 0px 1px 3px 1px rgba(0, 0, 0, 0.15);\n",
              "      filter: drop-shadow(0px 1px 2px rgba(0, 0, 0, 0.3));\n",
              "      fill: #FFFFFF;\n",
              "    }\n",
              "  </style>\n",
              "\n",
              "      <script>\n",
              "        const buttonEl =\n",
              "          document.querySelector('#df-31683345-d070-4bd8-a509-4bbfa7ffd3d2 button.colab-df-convert');\n",
              "        buttonEl.style.display =\n",
              "          google.colab.kernel.accessAllowed ? 'block' : 'none';\n",
              "\n",
              "        async function convertToInteractive(key) {\n",
              "          const element = document.querySelector('#df-31683345-d070-4bd8-a509-4bbfa7ffd3d2');\n",
              "          const dataTable =\n",
              "            await google.colab.kernel.invokeFunction('convertToInteractive',\n",
              "                                                     [key], {});\n",
              "          if (!dataTable) return;\n",
              "\n",
              "          const docLinkHtml = 'Like what you see? Visit the ' +\n",
              "            '<a target=\"_blank\" href=https://colab.research.google.com/notebooks/data_table.ipynb>data table notebook</a>'\n",
              "            + ' to learn more about interactive tables.';\n",
              "          element.innerHTML = '';\n",
              "          dataTable['output_type'] = 'display_data';\n",
              "          await google.colab.output.renderOutput(dataTable, element);\n",
              "          const docLink = document.createElement('div');\n",
              "          docLink.innerHTML = docLinkHtml;\n",
              "          element.appendChild(docLink);\n",
              "        }\n",
              "      </script>\n",
              "    </div>\n",
              "  </div>\n",
              "  "
            ]
          },
          "metadata": {},
          "execution_count": 25
        }
      ]
    },
    {
      "cell_type": "code",
      "source": [
        "df['Date']"
      ],
      "metadata": {
        "colab": {
          "base_uri": "https://localhost:8080/"
        },
        "id": "FJvrPSOveZZ5",
        "outputId": "f338d3e2-e4b2-42d6-bc6a-57d0e7afa7a6"
      },
      "execution_count": null,
      "outputs": [
        {
          "output_type": "execute_result",
          "data": {
            "text/plain": [
              "0       1986-03-13\n",
              "1       1986-03-14\n",
              "2       1986-03-17\n",
              "3       1986-03-18\n",
              "4       1986-03-19\n",
              "           ...    \n",
              "9185    2022-08-22\n",
              "9186    2022-08-23\n",
              "9187    2022-08-24\n",
              "9188    2022-08-25\n",
              "9189    2022-08-26\n",
              "Name: Date, Length: 9190, dtype: object"
            ]
          },
          "metadata": {},
          "execution_count": 26
        }
      ]
    },
    {
      "cell_type": "code",
      "source": [
        "import datetime\n",
        "\n",
        "def str_to_datetime(s):\n",
        "  split = s.split('-')\n",
        "  year, month, day = int(split[0]), int(split[1]), int(split[2])\n",
        "  return datetime.datetime(year=year, month=month, day=day)"
      ],
      "metadata": {
        "id": "xHTnvm2AenFF"
      },
      "execution_count": null,
      "outputs": []
    },
    {
      "cell_type": "code",
      "source": [
        "datetime_object = str_to_datetime('1986-03-19')\n",
        "datetime_object"
      ],
      "metadata": {
        "colab": {
          "base_uri": "https://localhost:8080/"
        },
        "id": "s8pr84infDzG",
        "outputId": "e18a83ed-7500-434e-e603-47b2f3c435c4"
      },
      "execution_count": null,
      "outputs": [
        {
          "output_type": "execute_result",
          "data": {
            "text/plain": [
              "datetime.datetime(1986, 3, 19, 0, 0)"
            ]
          },
          "metadata": {},
          "execution_count": 28
        }
      ]
    },
    {
      "cell_type": "code",
      "source": [
        "df['Date'] = df['Date'].apply(str_to_datetime)\n",
        "df['Date']"
      ],
      "metadata": {
        "colab": {
          "base_uri": "https://localhost:8080/"
        },
        "id": "0m1GhYS_fJ7B",
        "outputId": "e4b63c82-93ad-40f5-ff2b-f6efde3c7b15"
      },
      "execution_count": null,
      "outputs": [
        {
          "output_type": "stream",
          "name": "stderr",
          "text": [
            "/usr/local/lib/python3.7/dist-packages/ipykernel_launcher.py:1: SettingWithCopyWarning: \n",
            "A value is trying to be set on a copy of a slice from a DataFrame.\n",
            "Try using .loc[row_indexer,col_indexer] = value instead\n",
            "\n",
            "See the caveats in the documentation: https://pandas.pydata.org/pandas-docs/stable/user_guide/indexing.html#returning-a-view-versus-a-copy\n",
            "  \"\"\"Entry point for launching an IPython kernel.\n"
          ]
        },
        {
          "output_type": "execute_result",
          "data": {
            "text/plain": [
              "0      1986-03-13\n",
              "1      1986-03-14\n",
              "2      1986-03-17\n",
              "3      1986-03-18\n",
              "4      1986-03-19\n",
              "          ...    \n",
              "9185   2022-08-22\n",
              "9186   2022-08-23\n",
              "9187   2022-08-24\n",
              "9188   2022-08-25\n",
              "9189   2022-08-26\n",
              "Name: Date, Length: 9190, dtype: datetime64[ns]"
            ]
          },
          "metadata": {},
          "execution_count": 29
        }
      ]
    },
    {
      "cell_type": "code",
      "source": [
        "df.index = df.pop('Date')\n",
        "df"
      ],
      "metadata": {
        "colab": {
          "base_uri": "https://localhost:8080/",
          "height": 455
        },
        "id": "DdXRMqtTfUx-",
        "outputId": "d2719aa7-8e06-4130-8325-9088856cd6b3"
      },
      "execution_count": null,
      "outputs": [
        {
          "output_type": "execute_result",
          "data": {
            "text/plain": [
              "                 Close\n",
              "Date                  \n",
              "1986-03-13    0.097222\n",
              "1986-03-14    0.100694\n",
              "1986-03-17    0.102431\n",
              "1986-03-18    0.099826\n",
              "1986-03-19    0.098090\n",
              "...                ...\n",
              "2022-08-22  277.750000\n",
              "2022-08-23  276.440002\n",
              "2022-08-24  275.790009\n",
              "2022-08-25  278.850006\n",
              "2022-08-26  268.089996\n",
              "\n",
              "[9190 rows x 1 columns]"
            ],
            "text/html": [
              "\n",
              "  <div id=\"df-2a3a7d33-91b6-49de-9074-38ef2c7fa5b7\">\n",
              "    <div class=\"colab-df-container\">\n",
              "      <div>\n",
              "<style scoped>\n",
              "    .dataframe tbody tr th:only-of-type {\n",
              "        vertical-align: middle;\n",
              "    }\n",
              "\n",
              "    .dataframe tbody tr th {\n",
              "        vertical-align: top;\n",
              "    }\n",
              "\n",
              "    .dataframe thead th {\n",
              "        text-align: right;\n",
              "    }\n",
              "</style>\n",
              "<table border=\"1\" class=\"dataframe\">\n",
              "  <thead>\n",
              "    <tr style=\"text-align: right;\">\n",
              "      <th></th>\n",
              "      <th>Close</th>\n",
              "    </tr>\n",
              "    <tr>\n",
              "      <th>Date</th>\n",
              "      <th></th>\n",
              "    </tr>\n",
              "  </thead>\n",
              "  <tbody>\n",
              "    <tr>\n",
              "      <th>1986-03-13</th>\n",
              "      <td>0.097222</td>\n",
              "    </tr>\n",
              "    <tr>\n",
              "      <th>1986-03-14</th>\n",
              "      <td>0.100694</td>\n",
              "    </tr>\n",
              "    <tr>\n",
              "      <th>1986-03-17</th>\n",
              "      <td>0.102431</td>\n",
              "    </tr>\n",
              "    <tr>\n",
              "      <th>1986-03-18</th>\n",
              "      <td>0.099826</td>\n",
              "    </tr>\n",
              "    <tr>\n",
              "      <th>1986-03-19</th>\n",
              "      <td>0.098090</td>\n",
              "    </tr>\n",
              "    <tr>\n",
              "      <th>...</th>\n",
              "      <td>...</td>\n",
              "    </tr>\n",
              "    <tr>\n",
              "      <th>2022-08-22</th>\n",
              "      <td>277.750000</td>\n",
              "    </tr>\n",
              "    <tr>\n",
              "      <th>2022-08-23</th>\n",
              "      <td>276.440002</td>\n",
              "    </tr>\n",
              "    <tr>\n",
              "      <th>2022-08-24</th>\n",
              "      <td>275.790009</td>\n",
              "    </tr>\n",
              "    <tr>\n",
              "      <th>2022-08-25</th>\n",
              "      <td>278.850006</td>\n",
              "    </tr>\n",
              "    <tr>\n",
              "      <th>2022-08-26</th>\n",
              "      <td>268.089996</td>\n",
              "    </tr>\n",
              "  </tbody>\n",
              "</table>\n",
              "<p>9190 rows × 1 columns</p>\n",
              "</div>\n",
              "      <button class=\"colab-df-convert\" onclick=\"convertToInteractive('df-2a3a7d33-91b6-49de-9074-38ef2c7fa5b7')\"\n",
              "              title=\"Convert this dataframe to an interactive table.\"\n",
              "              style=\"display:none;\">\n",
              "        \n",
              "  <svg xmlns=\"http://www.w3.org/2000/svg\" height=\"24px\"viewBox=\"0 0 24 24\"\n",
              "       width=\"24px\">\n",
              "    <path d=\"M0 0h24v24H0V0z\" fill=\"none\"/>\n",
              "    <path d=\"M18.56 5.44l.94 2.06.94-2.06 2.06-.94-2.06-.94-.94-2.06-.94 2.06-2.06.94zm-11 1L8.5 8.5l.94-2.06 2.06-.94-2.06-.94L8.5 2.5l-.94 2.06-2.06.94zm10 10l.94 2.06.94-2.06 2.06-.94-2.06-.94-.94-2.06-.94 2.06-2.06.94z\"/><path d=\"M17.41 7.96l-1.37-1.37c-.4-.4-.92-.59-1.43-.59-.52 0-1.04.2-1.43.59L10.3 9.45l-7.72 7.72c-.78.78-.78 2.05 0 2.83L4 21.41c.39.39.9.59 1.41.59.51 0 1.02-.2 1.41-.59l7.78-7.78 2.81-2.81c.8-.78.8-2.07 0-2.86zM5.41 20L4 18.59l7.72-7.72 1.47 1.35L5.41 20z\"/>\n",
              "  </svg>\n",
              "      </button>\n",
              "      \n",
              "  <style>\n",
              "    .colab-df-container {\n",
              "      display:flex;\n",
              "      flex-wrap:wrap;\n",
              "      gap: 12px;\n",
              "    }\n",
              "\n",
              "    .colab-df-convert {\n",
              "      background-color: #E8F0FE;\n",
              "      border: none;\n",
              "      border-radius: 50%;\n",
              "      cursor: pointer;\n",
              "      display: none;\n",
              "      fill: #1967D2;\n",
              "      height: 32px;\n",
              "      padding: 0 0 0 0;\n",
              "      width: 32px;\n",
              "    }\n",
              "\n",
              "    .colab-df-convert:hover {\n",
              "      background-color: #E2EBFA;\n",
              "      box-shadow: 0px 1px 2px rgba(60, 64, 67, 0.3), 0px 1px 3px 1px rgba(60, 64, 67, 0.15);\n",
              "      fill: #174EA6;\n",
              "    }\n",
              "\n",
              "    [theme=dark] .colab-df-convert {\n",
              "      background-color: #3B4455;\n",
              "      fill: #D2E3FC;\n",
              "    }\n",
              "\n",
              "    [theme=dark] .colab-df-convert:hover {\n",
              "      background-color: #434B5C;\n",
              "      box-shadow: 0px 1px 3px 1px rgba(0, 0, 0, 0.15);\n",
              "      filter: drop-shadow(0px 1px 2px rgba(0, 0, 0, 0.3));\n",
              "      fill: #FFFFFF;\n",
              "    }\n",
              "  </style>\n",
              "\n",
              "      <script>\n",
              "        const buttonEl =\n",
              "          document.querySelector('#df-2a3a7d33-91b6-49de-9074-38ef2c7fa5b7 button.colab-df-convert');\n",
              "        buttonEl.style.display =\n",
              "          google.colab.kernel.accessAllowed ? 'block' : 'none';\n",
              "\n",
              "        async function convertToInteractive(key) {\n",
              "          const element = document.querySelector('#df-2a3a7d33-91b6-49de-9074-38ef2c7fa5b7');\n",
              "          const dataTable =\n",
              "            await google.colab.kernel.invokeFunction('convertToInteractive',\n",
              "                                                     [key], {});\n",
              "          if (!dataTable) return;\n",
              "\n",
              "          const docLinkHtml = 'Like what you see? Visit the ' +\n",
              "            '<a target=\"_blank\" href=https://colab.research.google.com/notebooks/data_table.ipynb>data table notebook</a>'\n",
              "            + ' to learn more about interactive tables.';\n",
              "          element.innerHTML = '';\n",
              "          dataTable['output_type'] = 'display_data';\n",
              "          await google.colab.output.renderOutput(dataTable, element);\n",
              "          const docLink = document.createElement('div');\n",
              "          docLink.innerHTML = docLinkHtml;\n",
              "          element.appendChild(docLink);\n",
              "        }\n",
              "      </script>\n",
              "    </div>\n",
              "  </div>\n",
              "  "
            ]
          },
          "metadata": {},
          "execution_count": 30
        }
      ]
    },
    {
      "cell_type": "code",
      "source": [
        "import matplotlib.pyplot as plt\n",
        "\n",
        "plt.plot(df.index, df['Close'])"
      ],
      "metadata": {
        "colab": {
          "base_uri": "https://localhost:8080/",
          "height": 282
        },
        "id": "603nV054fgza",
        "outputId": "82bcc9be-002b-4861-e1f5-92abf97e5d3d"
      },
      "execution_count": null,
      "outputs": [
        {
          "output_type": "execute_result",
          "data": {
            "text/plain": [
              "[<matplotlib.lines.Line2D at 0x7feee25f7dd0>]"
            ]
          },
          "metadata": {},
          "execution_count": 31
        },
        {
          "output_type": "display_data",
          "data": {
            "text/plain": [
              "<Figure size 432x288 with 1 Axes>"
            ],
            "image/png": "[encoded data removed]"
          },
          "metadata": {
            "needs_background": "light"
          }
        }
      ]
    },
    {
      "cell_type": "code",
      "source": [
        "import numpy as np"
      ],
      "metadata": {
        "id": "YeLvbZ6yy8EU"
      },
      "execution_count": null,
      "outputs": []
    },
    {
      "cell_type": "code",
      "source": [
        "def df_to_windowed_df(dataframe, first_date_str, last_date_str, n=3):\n",
        "  first_date = str_to_datetime(first_date_str)\n",
        "  last_date = str_to_datetime(last_date_str)\n",
        "\n",
        "  target_date = first_date\n",
        "\n",
        "  dates = []\n",
        "  X, Y = [], []\n",
        "\n",
        "  last_time = False\n",
        "  while True:\n",
        "    df_subset = dataframe.loc[:target_date].tail(n+1)\n",
        "\n",
        "    if len(df_subset) != n+1:\n",
        "      print(f'Error: Window of size {n} is too large for date {target_date}')\n",
        "      return\n",
        "\n",
        "    values = df_subset['Close'].to_numpy()\n",
        "    x, y = values[:-1], values[-1]\n",
        "\n",
        "    dates.append(target_date)\n",
        "    X.append(x)\n",
        "    Y.append(y)\n",
        "\n",
        "    next_week = dataframe.loc[target_date:target_date+datetime.timedelta(days=7)]\n",
        "    next_datetime_str = str(next_week.head(2).tail(1).index.values[0])\n",
        "    next_date_str = next_datetime_str.split('T')[0]\n",
        "    year_month_day = next_date_str.split('-')\n",
        "    year, month, day = year_month_day\n",
        "    next_date = datetime.datetime(day=int(day), month=int(month), year=int(year))\n",
        "\n",
        "    if last_time:\n",
        "      break\n",
        "\n",
        "    target_date = next_date\n",
        "\n",
        "    if target_date == last_date:\n",
        "      last_time = True\n",
        "\n",
        "  ret_df = pd.DataFrame({})\n",
        "  ret_df['Target Date'] = dates\n",
        "\n",
        "  X = np.array(X)\n",
        "  for i in range(0, n):\n",
        "    X[:, i]\n",
        "    ret_df[f'Target-{n-i}'] = X[:, i]\n",
        "\n",
        "  ret_df['Target'] = Y\n",
        "\n",
        "  return ret_df\n",
        "\n",
        "# Start day second time around: '2021-03-25'\n",
        "windowed_df = df_to_windowed_df(df,\n",
        "                                '2021-03-25',\n",
        "                                '2022-08-26',\n",
        "                                n=3)\n",
        "\n",
        "windowed_df"
      ],
      "metadata": {
        "colab": {
          "base_uri": "https://localhost:8080/",
          "height": 424
        },
        "id": "7dA_GhqdfmLT",
        "outputId": "7feb1847-2f21-45e7-8893-755a8573dc1d"
      },
      "execution_count": null,
      "outputs": [
        {
          "output_type": "execute_result",
          "data": {
            "text/plain": [
              "    Target Date    Target-3    Target-2    Target-1      Target\n",
              "0    2021-03-25  235.990005  237.580002  235.460007  232.339996\n",
              "1    2021-03-26  237.580002  235.460007  232.339996  236.479996\n",
              "2    2021-03-29  235.460007  232.339996  236.479996  235.240005\n",
              "3    2021-03-30  232.339996  236.479996  235.240005  231.850006\n",
              "4    2021-03-31  236.479996  235.240005  231.850006  235.770004\n",
              "..          ...         ...         ...         ...         ...\n",
              "355  2022-08-22  291.320007  290.170013  286.149994  277.750000\n",
              "356  2022-08-23  290.170013  286.149994  277.750000  276.440002\n",
              "357  2022-08-24  286.149994  277.750000  276.440002  275.790009\n",
              "358  2022-08-25  277.750000  276.440002  275.790009  278.850006\n",
              "359  2022-08-26  276.440002  275.790009  278.850006  268.089996\n",
              "\n",
              "[360 rows x 5 columns]"
            ],
            "text/html": [
              "\n",
              "  <div id=\"df-6cce91ba-76df-4024-b9d5-547c7f9df634\">\n",
              "    <div class=\"colab-df-container\">\n",
              "      <div>\n",
              "<style scoped>\n",
              "    .dataframe tbody tr th:only-of-type {\n",
              "        vertical-align: middle;\n",
              "    }\n",
              "\n",
              "    .dataframe tbody tr th {\n",
              "        vertical-align: top;\n",
              "    }\n",
              "\n",
              "    .dataframe thead th {\n",
              "        text-align: right;\n",
              "    }\n",
              "</style>\n",
              "<table border=\"1\" class=\"dataframe\">\n",
              "  <thead>\n",
              "    <tr style=\"text-align: right;\">\n",
              "      <th></th>\n",
              "      <th>Target Date</th>\n",
              "      <th>Target-3</th>\n",
              "      <th>Target-2</th>\n",
              "      <th>Target-1</th>\n",
              "      <th>Target</th>\n",
              "    </tr>\n",
              "  </thead>\n",
              "  <tbody>\n",
              "    <tr>\n",
              "      <th>0</th>\n",
              "      <td>2021-03-25</td>\n",
              "      <td>235.990005</td>\n",
              "      <td>237.580002</td>\n",
              "      <td>235.460007</td>\n",
              "      <td>232.339996</td>\n",
              "    </tr>\n",
              "    <tr>\n",
              "      <th>1</th>\n",
              "      <td>2021-03-26</td>\n",
              "      <td>237.580002</td>\n",
              "      <td>235.460007</td>\n",
              "      <td>232.339996</td>\n",
              "      <td>236.479996</td>\n",
              "    </tr>\n",
              "    <tr>\n",
              "      <th>2</th>\n",
              "      <td>2021-03-29</td>\n",
              "      <td>235.460007</td>\n",
              "      <td>232.339996</td>\n",
              "      <td>236.479996</td>\n",
              "      <td>235.240005</td>\n",
              "    </tr>\n",
              "    <tr>\n",
              "      <th>3</th>\n",
              "      <td>2021-03-30</td>\n",
              "      <td>232.339996</td>\n",
              "      <td>236.479996</td>\n",
              "      <td>235.240005</td>\n",
              "      <td>231.850006</td>\n",
              "    </tr>\n",
              "    <tr>\n",
              "      <th>4</th>\n",
              "      <td>2021-03-31</td>\n",
              "      <td>236.479996</td>\n",
              "      <td>235.240005</td>\n",
              "      <td>231.850006</td>\n",
              "      <td>235.770004</td>\n",
              "    </tr>\n",
              "    <tr>\n",
              "      <th>...</th>\n",
              "      <td>...</td>\n",
              "      <td>...</td>\n",
              "      <td>...</td>\n",
              "      <td>...</td>\n",
              "      <td>...</td>\n",
              "    </tr>\n",
              "    <tr>\n",
              "      <th>355</th>\n",
              "      <td>2022-08-22</td>\n",
              "      <td>291.320007</td>\n",
              "      <td>290.170013</td>\n",
              "      <td>286.149994</td>\n",
              "      <td>277.750000</td>\n",
              "    </tr>\n",
              "    <tr>\n",
              "      <th>356</th>\n",
              "      <td>2022-08-23</td>\n",
              "      <td>290.170013</td>\n",
              "      <td>286.149994</td>\n",
              "      <td>277.750000</td>\n",
              "      <td>276.440002</td>\n",
              "    </tr>\n",
              "    <tr>\n",
              "      <th>357</th>\n",
              "      <td>2022-08-24</td>\n",
              "      <td>286.149994</td>\n",
              "      <td>277.750000</td>\n",
              "      <td>276.440002</td>\n",
              "      <td>275.790009</td>\n",
              "    </tr>\n",
              "    <tr>\n",
              "      <th>358</th>\n",
              "      <td>2022-08-25</td>\n",
              "      <td>277.750000</td>\n",
              "      <td>276.440002</td>\n",
              "      <td>275.790009</td>\n",
              "      <td>278.850006</td>\n",
              "    </tr>\n",
              "    <tr>\n",
              "      <th>359</th>\n",
              "      <td>2022-08-26</td>\n",
              "      <td>276.440002</td>\n",
              "      <td>275.790009</td>\n",
              "      <td>278.850006</td>\n",
              "      <td>268.089996</td>\n",
              "    </tr>\n",
              "  </tbody>\n",
              "</table>\n",
              "<p>360 rows × 5 columns</p>\n",
              "</div>\n",
              "      <button class=\"colab-df-convert\" onclick=\"convertToInteractive('df-6cce91ba-76df-4024-b9d5-547c7f9df634')\"\n",
              "              title=\"Convert this dataframe to an interactive table.\"\n",
              "              style=\"display:none;\">\n",
              "        \n",
              "  <svg xmlns=\"http://www.w3.org/2000/svg\" height=\"24px\"viewBox=\"0 0 24 24\"\n",
              "       width=\"24px\">\n",
              "    <path d=\"M0 0h24v24H0V0z\" fill=\"none\"/>\n",
              "    <path d=\"M18.56 5.44l.94 2.06.94-2.06 2.06-.94-2.06-.94-.94-2.06-.94 2.06-2.06.94zm-11 1L8.5 8.5l.94-2.06 2.06-.94-2.06-.94L8.5 2.5l-.94 2.06-2.06.94zm10 10l.94 2.06.94-2.06 2.06-.94-2.06-.94-.94-2.06-.94 2.06-2.06.94z\"/><path d=\"M17.41 7.96l-1.37-1.37c-.4-.4-.92-.59-1.43-.59-.52 0-1.04.2-1.43.59L10.3 9.45l-7.72 7.72c-.78.78-.78 2.05 0 2.83L4 21.41c.39.39.9.59 1.41.59.51 0 1.02-.2 1.41-.59l7.78-7.78 2.81-2.81c.8-.78.8-2.07 0-2.86zM5.41 20L4 18.59l7.72-7.72 1.47 1.35L5.41 20z\"/>\n",
              "  </svg>\n",
              "      </button>\n",
              "      \n",
              "  <style>\n",
              "    .colab-df-container {\n",
              "      display:flex;\n",
              "      flex-wrap:wrap;\n",
              "      gap: 12px;\n",
              "    }\n",
              "\n",
              "    .colab-df-convert {\n",
              "      background-color: #E8F0FE;\n",
              "      border: none;\n",
              "      border-radius: 50%;\n",
              "      cursor: pointer;\n",
              "      display: none;\n",
              "      fill: #1967D2;\n",
              "      height: 32px;\n",
              "      padding: 0 0 0 0;\n",
              "      width: 32px;\n",
              "    }\n",
              "\n",
              "    .colab-df-convert:hover {\n",
              "      background-color: #E2EBFA;\n",
              "      box-shadow: 0px 1px 2px rgba(60, 64, 67, 0.3), 0px 1px 3px 1px rgba(60, 64, 67, 0.15);\n",
              "      fill: #174EA6;\n",
              "    }\n",
              "\n",
              "    [theme=dark] .colab-df-convert {\n",
              "      background-color: #3B4455;\n",
              "      fill: #D2E3FC;\n",
              "    }\n",
              "\n",
              "    [theme=dark] .colab-df-convert:hover {\n",
              "      background-color: #434B5C;\n",
              "      box-shadow: 0px 1px 3px 1px rgba(0, 0, 0, 0.15);\n",
              "      filter: drop-shadow(0px 1px 2px rgba(0, 0, 0, 0.3));\n",
              "      fill: #FFFFFF;\n",
              "    }\n",
              "  </style>\n",
              "\n",
              "      <script>\n",
              "        const buttonEl =\n",
              "          document.querySelector('#df-6cce91ba-76df-4024-b9d5-547c7f9df634 button.colab-df-convert');\n",
              "        buttonEl.style.display =\n",
              "          google.colab.kernel.accessAllowed ? 'block' : 'none';\n",
              "\n",
              "        async function convertToInteractive(key) {\n",
              "          const element = document.querySelector('#df-6cce91ba-76df-4024-b9d5-547c7f9df634');\n",
              "          const dataTable =\n",
              "            await google.colab.kernel.invokeFunction('convertToInteractive',\n",
              "                                                     [key], {});\n",
              "          if (!dataTable) return;\n",
              "\n",
              "          const docLinkHtml = 'Like what you see? Visit the ' +\n",
              "            '<a target=\"_blank\" href=https://colab.research.google.com/notebooks/data_table.ipynb>data table notebook</a>'\n",
              "            + ' to learn more about interactive tables.';\n",
              "          element.innerHTML = '';\n",
              "          dataTable['output_type'] = 'display_data';\n",
              "          await google.colab.output.renderOutput(dataTable, element);\n",
              "          const docLink = document.createElement('div');\n",
              "          docLink.innerHTML = docLinkHtml;\n",
              "          element.appendChild(docLink);\n",
              "        }\n",
              "      </script>\n",
              "    </div>\n",
              "  </div>\n",
              "  "
            ]
          },
          "metadata": {},
          "execution_count": 33
        }
      ]
    },
    {
      "cell_type": "code",
      "source": [
        "def windowed_df_to_date_X_y(windowed_dataframe):\n",
        "  df_as_np = windowed_dataframe.to_numpy()\n",
        "\n",
        "  dates = df_as_np[:,0]\n",
        "\n",
        "  middle_matrix = df_as_np[:,1:-1]\n",
        "  X = middle_matrix.reshape((len(dates), middle_matrix.shape[1], 1))\n",
        "\n",
        "  Y = df_as_np[:, -1]\n",
        "\n",
        "  return dates, X.astype(np.float32), Y.astype(np.float32)\n",
        "\n",
        "dates, X, y = windowed_df_to_date_X_y(windowed_df)\n",
        "\n",
        "dates.shape, X.shape, y.shape"
      ],
      "metadata": {
        "colab": {
          "base_uri": "https://localhost:8080/"
        },
        "id": "IXshGOMwyrMF",
        "outputId": "a6ae713d-e4ed-4059-b0f5-95398052007d"
      },
      "execution_count": null,
      "outputs": [
        {
          "output_type": "execute_result",
          "data": {
            "text/plain": [
              "((360,), (360, 3, 1), (360,))"
            ]
          },
          "metadata": {},
          "execution_count": 34
        }
      ]
    },
    {
      "cell_type": "code",
      "source": [
        "q_80 = int(len(dates) * .8)\n",
        "q_90 = int(len(dates) * .9)\n",
        "\n",
        "dates_train, X_train, y_train = dates[:q_80], X[:q_80], y[:q_80]\n",
        "\n",
        "dates_val, X_val, y_val = dates[q_80:q_90], X[q_80:q_90], y[q_80:q_90]\n",
        "dates_test, X_test, y_test = dates[q_90:], X[q_90:], y[q_90:]\n",
        "\n",
        "plt.plot(dates_train, y_train)\n",
        "plt.plot(dates_val, y_val)\n",
        "plt.plot(dates_test, y_test)\n",
        "\n",
        "plt.legend(['Train', 'Validation', 'Test'])\n"
      ],
      "metadata": {
        "colab": {
          "base_uri": "https://localhost:8080/",
          "height": 282
        },
        "id": "7Kg7lEuE7Qyr",
        "outputId": "943e9956-0cd5-4183-96c9-46f425a2aa7f"
      },
      "execution_count": null,
      "outputs": [
        {
          "output_type": "execute_result",
          "data": {
            "text/plain": [
              "<matplotlib.legend.Legend at 0x7feee23c6c10>"
            ]
          },
          "metadata": {},
          "execution_count": 35
        },
        {
          "output_type": "display_data",
          "data": {
            "text/plain": [
              "<Figure size 432x288 with 1 Axes>"
            ],
            "image/png": "[encoded data removed]"
          },
          "metadata": {
            "needs_background": "light"
          }
        }
      ]
    },
    {
      "cell_type": "code",
      "source": [
        "from tensorflow.keras.models import Sequential\n",
        "from tensorflow.keras.optimizers import Adam\n",
        "from tensorflow.keras import layers\n",
        "\n",
        "model = Sequential([layers.Input((3, 1)),\n",
        "                    layers.LSTM(64),\n",
        "                    layers.Dense(32, activation='relu'),\n",
        "                    layers.Dense(32, activation='relu'),\n",
        "                    layers.Dense(1)\n",
        "                    ])\n",
        "\n",
        "model.compile(loss = 'mse', optimizer = Adam(learning_rate=0.001),\n",
        "              metrics=['mean_absolute_error'])\n",
        "\n",
        "model.fit(X_train, y_train, validation_data=(X_val, y_val), epochs=100)"
      ],
      "metadata": {
        "colab": {
          "base_uri": "https://localhost:8080/"
        },
        "id": "ymRdn6PA79Ba",
        "outputId": "528ed6cd-bb65-4fc1-ece7-eeb51fa50fe6"
      },
      "execution_count": null,
      "outputs": [
        {
          "output_type": "stream",
          "name": "stdout",
          "text": [
            "Epoch 1/100\n",
            "9/9 [==============================] - 2s 59ms/step - loss: 85220.6719 - mean_absolute_error: 290.6088 - val_loss: 67923.4453 - val_mean_absolute_error: 260.4766\n",
            "Epoch 2/100\n",
            "9/9 [==============================] - 0s 6ms/step - loss: 84942.0156 - mean_absolute_error: 290.1285 - val_loss: 67684.4141 - val_mean_absolute_error: 260.0173\n",
            "Epoch 3/100\n",
            "9/9 [==============================] - 0s 6ms/step - loss: 84656.8359 - mean_absolute_error: 289.6360 - val_loss: 67409.8047 - val_mean_absolute_error: 259.4887\n",
            "Epoch 4/100\n",
            "9/9 [==============================] - 0s 6ms/step - loss: 84317.6484 - mean_absolute_error: 289.0508 - val_loss: 67045.0312 - val_mean_absolute_error: 258.7848\n",
            "Epoch 5/100\n",
            "9/9 [==============================] - 0s 6ms/step - loss: 83799.8047 - mean_absolute_error: 288.1542 - val_loss: 66425.6875 - val_mean_absolute_error: 257.5855\n",
            "Epoch 6/100\n",
            "9/9 [==============================] - 0s 7ms/step - loss: 83035.0078 - mean_absolute_error: 286.8265 - val_loss: 65716.9062 - val_mean_absolute_error: 256.2059\n",
            "Epoch 7/100\n",
            "9/9 [==============================] - 0s 8ms/step - loss: 82164.8125 - mean_absolute_error: 285.2943 - val_loss: 64741.1445 - val_mean_absolute_error: 254.2944\n",
            "Epoch 8/100\n",
            "9/9 [==============================] - 0s 6ms/step - loss: 80841.3906 - mean_absolute_error: 282.9620 - val_loss: 63254.6445 - val_mean_absolute_error: 251.3546\n",
            "Epoch 9/100\n",
            "9/9 [==============================] - 0s 8ms/step - loss: 78863.0312 - mean_absolute_error: 279.4490 - val_loss: 61162.7578 - val_mean_absolute_error: 247.1584\n",
            "Epoch 10/100\n",
            "9/9 [==============================] - 0s 6ms/step - loss: 76286.8203 - mean_absolute_error: 274.8054 - val_loss: 58557.1406 - val_mean_absolute_error: 241.8296\n",
            "Epoch 11/100\n",
            "9/9 [==============================] - 0s 6ms/step - loss: 72965.2109 - mean_absolute_error: 268.6984 - val_loss: 55299.1094 - val_mean_absolute_error: 234.9972\n",
            "Epoch 12/100\n",
            "9/9 [==============================] - 0s 6ms/step - loss: 69127.2422 - mean_absolute_error: 261.4677 - val_loss: 51574.5938 - val_mean_absolute_error: 226.9344\n",
            "Epoch 13/100\n",
            "9/9 [==============================] - 0s 6ms/step - loss: 64661.5156 - mean_absolute_error: 252.7554 - val_loss: 47396.5156 - val_mean_absolute_error: 217.5340\n",
            "Epoch 14/100\n",
            "9/9 [==============================] - 0s 6ms/step - loss: 59627.0430 - mean_absolute_error: 242.6139 - val_loss: 42761.4336 - val_mean_absolute_error: 206.6060\n",
            "Epoch 15/100\n",
            "9/9 [==============================] - 0s 6ms/step - loss: 54158.1797 - mean_absolute_error: 231.0766 - val_loss: 37708.9219 - val_mean_absolute_error: 193.9931\n",
            "Epoch 16/100\n",
            "9/9 [==============================] - 0s 6ms/step - loss: 47978.1992 - mean_absolute_error: 217.2421 - val_loss: 31898.3340 - val_mean_absolute_error: 178.3892\n",
            "Epoch 17/100\n",
            "9/9 [==============================] - 0s 6ms/step - loss: 41147.7695 - mean_absolute_error: 200.9169 - val_loss: 26251.1621 - val_mean_absolute_error: 161.7893\n",
            "Epoch 18/100\n",
            "9/9 [==============================] - 0s 6ms/step - loss: 34579.1367 - mean_absolute_error: 183.7715 - val_loss: 20758.2344 - val_mean_absolute_error: 143.8153\n",
            "Epoch 19/100\n",
            "9/9 [==============================] - 0s 6ms/step - loss: 28048.1562 - mean_absolute_error: 165.1356 - val_loss: 15446.8486 - val_mean_absolute_error: 123.9800\n",
            "Epoch 20/100\n",
            "9/9 [==============================] - 0s 6ms/step - loss: 21672.6152 - mean_absolute_error: 144.4880 - val_loss: 10692.5283 - val_mean_absolute_error: 103.0395\n",
            "Epoch 21/100\n",
            "9/9 [==============================] - 0s 6ms/step - loss: 16085.5957 - mean_absolute_error: 123.5209 - val_loss: 6787.6885 - val_mean_absolute_error: 81.9282\n",
            "Epoch 22/100\n",
            "9/9 [==============================] - 0s 6ms/step - loss: 11256.7305 - mean_absolute_error: 102.1119 - val_loss: 3583.5901 - val_mean_absolute_error: 59.2213\n",
            "Epoch 23/100\n",
            "9/9 [==============================] - 0s 6ms/step - loss: 6922.5186 - mean_absolute_error: 78.1428 - val_loss: 1350.2180 - val_mean_absolute_error: 35.7051\n",
            "Epoch 24/100\n",
            "9/9 [==============================] - 0s 6ms/step - loss: 4043.9380 - mean_absolute_error: 57.0627 - val_loss: 366.0271 - val_mean_absolute_error: 17.1304\n",
            "Epoch 25/100\n",
            "9/9 [==============================] - 0s 6ms/step - loss: 2372.8838 - mean_absolute_error: 41.3119 - val_loss: 76.6902 - val_mean_absolute_error: 7.3742\n",
            "Epoch 26/100\n",
            "9/9 [==============================] - 0s 6ms/step - loss: 1362.2593 - mean_absolute_error: 30.7637 - val_loss: 251.6383 - val_mean_absolute_error: 13.3046\n",
            "Epoch 27/100\n",
            "9/9 [==============================] - 0s 6ms/step - loss: 914.9262 - mean_absolute_error: 25.0255 - val_loss: 568.3324 - val_mean_absolute_error: 22.2062\n",
            "Epoch 28/100\n",
            "9/9 [==============================] - 0s 6ms/step - loss: 788.7173 - mean_absolute_error: 22.9721 - val_loss: 800.4079 - val_mean_absolute_error: 26.9446\n",
            "Epoch 29/100\n",
            "9/9 [==============================] - 0s 7ms/step - loss: 756.1302 - mean_absolute_error: 22.2451 - val_loss: 960.9645 - val_mean_absolute_error: 29.7797\n",
            "Epoch 30/100\n",
            "9/9 [==============================] - 0s 5ms/step - loss: 755.8546 - mean_absolute_error: 22.1857 - val_loss: 955.6678 - val_mean_absolute_error: 29.6907\n",
            "Epoch 31/100\n",
            "9/9 [==============================] - 0s 6ms/step - loss: 750.8182 - mean_absolute_error: 22.1332 - val_loss: 1002.0438 - val_mean_absolute_error: 30.4681\n",
            "Epoch 32/100\n",
            "9/9 [==============================] - 0s 6ms/step - loss: 748.2132 - mean_absolute_error: 22.0816 - val_loss: 996.8890 - val_mean_absolute_error: 30.3872\n",
            "Epoch 33/100\n",
            "9/9 [==============================] - 0s 6ms/step - loss: 745.0348 - mean_absolute_error: 22.0366 - val_loss: 982.4576 - val_mean_absolute_error: 30.1522\n",
            "Epoch 34/100\n",
            "9/9 [==============================] - 0s 5ms/step - loss: 744.1218 - mean_absolute_error: 22.0457 - val_loss: 956.9661 - val_mean_absolute_error: 29.7289\n",
            "Epoch 35/100\n",
            "9/9 [==============================] - 0s 5ms/step - loss: 741.3478 - mean_absolute_error: 21.9703 - val_loss: 956.3185 - val_mean_absolute_error: 29.7221\n",
            "Epoch 36/100\n",
            "9/9 [==============================] - 0s 6ms/step - loss: 737.9800 - mean_absolute_error: 21.9456 - val_loss: 940.8637 - val_mean_absolute_error: 29.4612\n",
            "Epoch 37/100\n",
            "9/9 [==============================] - 0s 6ms/step - loss: 735.3875 - mean_absolute_error: 21.9213 - val_loss: 937.5338 - val_mean_absolute_error: 29.4110\n",
            "Epoch 38/100\n",
            "9/9 [==============================] - 0s 6ms/step - loss: 732.1360 - mean_absolute_error: 21.8552 - val_loss: 867.4395 - val_mean_absolute_error: 28.2261\n",
            "Epoch 39/100\n",
            "9/9 [==============================] - 0s 6ms/step - loss: 708.9554 - mean_absolute_error: 21.5500 - val_loss: 863.9928 - val_mean_absolute_error: 28.1954\n",
            "Epoch 40/100\n",
            "9/9 [==============================] - 0s 7ms/step - loss: 699.1997 - mean_absolute_error: 21.3247 - val_loss: 802.4519 - val_mean_absolute_error: 27.0945\n",
            "Epoch 41/100\n",
            "9/9 [==============================] - 0s 6ms/step - loss: 691.5217 - mean_absolute_error: 21.3160 - val_loss: 744.9910 - val_mean_absolute_error: 26.0111\n",
            "Epoch 42/100\n",
            "9/9 [==============================] - 0s 6ms/step - loss: 680.1004 - mean_absolute_error: 21.1277 - val_loss: 748.2552 - val_mean_absolute_error: 26.0997\n",
            "Epoch 43/100\n",
            "9/9 [==============================] - 0s 6ms/step - loss: 671.8600 - mean_absolute_error: 20.9742 - val_loss: 858.6640 - val_mean_absolute_error: 28.1497\n",
            "Epoch 44/100\n",
            "9/9 [==============================] - 0s 7ms/step - loss: 663.6275 - mean_absolute_error: 20.8508 - val_loss: 651.1370 - val_mean_absolute_error: 24.2119\n",
            "Epoch 45/100\n",
            "9/9 [==============================] - 0s 6ms/step - loss: 639.8110 - mean_absolute_error: 20.5231 - val_loss: 595.6650 - val_mean_absolute_error: 23.1189\n",
            "Epoch 46/100\n",
            "9/9 [==============================] - 0s 6ms/step - loss: 602.6575 - mean_absolute_error: 19.8885 - val_loss: 757.1937 - val_mean_absolute_error: 26.4084\n",
            "Epoch 47/100\n",
            "9/9 [==============================] - 0s 6ms/step - loss: 597.8811 - mean_absolute_error: 19.8840 - val_loss: 584.3926 - val_mean_absolute_error: 23.0633\n",
            "Epoch 48/100\n",
            "9/9 [==============================] - 0s 6ms/step - loss: 556.4617 - mean_absolute_error: 19.1720 - val_loss: 478.7231 - val_mean_absolute_error: 20.6238\n",
            "Epoch 49/100\n",
            "9/9 [==============================] - 0s 5ms/step - loss: 523.0632 - mean_absolute_error: 18.6422 - val_loss: 344.9222 - val_mean_absolute_error: 17.0682\n",
            "Epoch 50/100\n",
            "9/9 [==============================] - 0s 6ms/step - loss: 468.9584 - mean_absolute_error: 17.3942 - val_loss: 371.5150 - val_mean_absolute_error: 17.9559\n",
            "Epoch 51/100\n",
            "9/9 [==============================] - 0s 6ms/step - loss: 449.2211 - mean_absolute_error: 17.2269 - val_loss: 365.5672 - val_mean_absolute_error: 17.8345\n",
            "Epoch 52/100\n",
            "9/9 [==============================] - 0s 6ms/step - loss: 420.5016 - mean_absolute_error: 16.6530 - val_loss: 377.5743 - val_mean_absolute_error: 18.2201\n",
            "Epoch 53/100\n",
            "9/9 [==============================] - 0s 7ms/step - loss: 388.5969 - mean_absolute_error: 15.9325 - val_loss: 447.0304 - val_mean_absolute_error: 20.1162\n",
            "Epoch 54/100\n",
            "9/9 [==============================] - 0s 6ms/step - loss: 360.8917 - mean_absolute_error: 15.3622 - val_loss: 395.3224 - val_mean_absolute_error: 18.8344\n",
            "Epoch 55/100\n",
            "9/9 [==============================] - 0s 6ms/step - loss: 340.3786 - mean_absolute_error: 14.8137 - val_loss: 268.0112 - val_mean_absolute_error: 15.0412\n",
            "Epoch 56/100\n",
            "9/9 [==============================] - 0s 6ms/step - loss: 327.0245 - mean_absolute_error: 14.5862 - val_loss: 236.8945 - val_mean_absolute_error: 14.0802\n",
            "Epoch 57/100\n",
            "9/9 [==============================] - 0s 7ms/step - loss: 312.2592 - mean_absolute_error: 14.2827 - val_loss: 152.1959 - val_mean_absolute_error: 10.5917\n",
            "Epoch 58/100\n",
            "9/9 [==============================] - 0s 6ms/step - loss: 286.4224 - mean_absolute_error: 13.6456 - val_loss: 293.9286 - val_mean_absolute_error: 16.0630\n",
            "Epoch 59/100\n",
            "9/9 [==============================] - 0s 6ms/step - loss: 268.0667 - mean_absolute_error: 13.1929 - val_loss: 271.1639 - val_mean_absolute_error: 15.3461\n",
            "Epoch 60/100\n",
            "9/9 [==============================] - 0s 7ms/step - loss: 252.5156 - mean_absolute_error: 12.9196 - val_loss: 162.0168 - val_mean_absolute_error: 11.2480\n",
            "Epoch 61/100\n",
            "9/9 [==============================] - 0s 6ms/step - loss: 213.5096 - mean_absolute_error: 11.8980 - val_loss: 102.3195 - val_mean_absolute_error: 8.4045\n",
            "Epoch 62/100\n",
            "9/9 [==============================] - 0s 6ms/step - loss: 209.2641 - mean_absolute_error: 11.5974 - val_loss: 116.7873 - val_mean_absolute_error: 9.2012\n",
            "Epoch 63/100\n",
            "9/9 [==============================] - 0s 6ms/step - loss: 184.8183 - mean_absolute_error: 10.8174 - val_loss: 263.5052 - val_mean_absolute_error: 15.2365\n",
            "Epoch 64/100\n",
            "9/9 [==============================] - 0s 6ms/step - loss: 187.1685 - mean_absolute_error: 11.1769 - val_loss: 261.7118 - val_mean_absolute_error: 15.1886\n",
            "Epoch 65/100\n",
            "9/9 [==============================] - 0s 6ms/step - loss: 151.9778 - mean_absolute_error: 9.8106 - val_loss: 107.9468 - val_mean_absolute_error: 8.8227\n",
            "Epoch 66/100\n",
            "9/9 [==============================] - 0s 6ms/step - loss: 131.8148 - mean_absolute_error: 9.0083 - val_loss: 90.1049 - val_mean_absolute_error: 7.8765\n",
            "Epoch 67/100\n",
            "9/9 [==============================] - 0s 6ms/step - loss: 117.8564 - mean_absolute_error: 8.4312 - val_loss: 83.7103 - val_mean_absolute_error: 7.5015\n",
            "Epoch 68/100\n",
            "9/9 [==============================] - 0s 6ms/step - loss: 107.0895 - mean_absolute_error: 8.1165 - val_loss: 127.1830 - val_mean_absolute_error: 9.8253\n",
            "Epoch 69/100\n",
            "9/9 [==============================] - 0s 6ms/step - loss: 103.5491 - mean_absolute_error: 8.0358 - val_loss: 38.7605 - val_mean_absolute_error: 4.5039\n",
            "Epoch 70/100\n",
            "9/9 [==============================] - 0s 8ms/step - loss: 83.8481 - mean_absolute_error: 6.9491 - val_loss: 32.3172 - val_mean_absolute_error: 4.2138\n",
            "Epoch 71/100\n",
            "9/9 [==============================] - 0s 6ms/step - loss: 73.6256 - mean_absolute_error: 6.4975 - val_loss: 42.6896 - val_mean_absolute_error: 4.7910\n",
            "Epoch 72/100\n",
            "9/9 [==============================] - 0s 6ms/step - loss: 64.6868 - mean_absolute_error: 5.8698 - val_loss: 71.2756 - val_mean_absolute_error: 6.6497\n",
            "Epoch 73/100\n",
            "9/9 [==============================] - 0s 6ms/step - loss: 58.7036 - mean_absolute_error: 5.8046 - val_loss: 41.9654 - val_mean_absolute_error: 4.7636\n",
            "Epoch 74/100\n",
            "9/9 [==============================] - 0s 6ms/step - loss: 51.8468 - mean_absolute_error: 5.3466 - val_loss: 34.3964 - val_mean_absolute_error: 4.5216\n",
            "Epoch 75/100\n",
            "9/9 [==============================] - 0s 6ms/step - loss: 48.9229 - mean_absolute_error: 5.2041 - val_loss: 34.0850 - val_mean_absolute_error: 4.4380\n",
            "Epoch 76/100\n",
            "9/9 [==============================] - 0s 6ms/step - loss: 45.3671 - mean_absolute_error: 5.0349 - val_loss: 34.2397 - val_mean_absolute_error: 4.4058\n",
            "Epoch 77/100\n",
            "9/9 [==============================] - 0s 6ms/step - loss: 42.8431 - mean_absolute_error: 4.9586 - val_loss: 35.2850 - val_mean_absolute_error: 4.4387\n",
            "Epoch 78/100\n",
            "9/9 [==============================] - 0s 6ms/step - loss: 43.4430 - mean_absolute_error: 5.1662 - val_loss: 37.0232 - val_mean_absolute_error: 4.9989\n",
            "Epoch 79/100\n",
            "9/9 [==============================] - 0s 6ms/step - loss: 47.5682 - mean_absolute_error: 5.4950 - val_loss: 42.3570 - val_mean_absolute_error: 4.8016\n",
            "Epoch 80/100\n",
            "9/9 [==============================] - 0s 6ms/step - loss: 40.1219 - mean_absolute_error: 4.9144 - val_loss: 58.8562 - val_mean_absolute_error: 6.7038\n",
            "Epoch 81/100\n",
            "9/9 [==============================] - 0s 6ms/step - loss: 43.2891 - mean_absolute_error: 5.1869 - val_loss: 35.3472 - val_mean_absolute_error: 4.3617\n",
            "Epoch 82/100\n",
            "9/9 [==============================] - 0s 6ms/step - loss: 36.7553 - mean_absolute_error: 4.6390 - val_loss: 33.7730 - val_mean_absolute_error: 4.3553\n",
            "Epoch 83/100\n",
            "9/9 [==============================] - 0s 7ms/step - loss: 35.1864 - mean_absolute_error: 4.5585 - val_loss: 39.6311 - val_mean_absolute_error: 4.6142\n",
            "Epoch 84/100\n",
            "9/9 [==============================] - 0s 8ms/step - loss: 35.7188 - mean_absolute_error: 4.6210 - val_loss: 40.4935 - val_mean_absolute_error: 5.3667\n",
            "Epoch 85/100\n",
            "9/9 [==============================] - 0s 9ms/step - loss: 38.1560 - mean_absolute_error: 4.8165 - val_loss: 50.6274 - val_mean_absolute_error: 5.3676\n",
            "Epoch 86/100\n",
            "9/9 [==============================] - 0s 8ms/step - loss: 43.7205 - mean_absolute_error: 5.2486 - val_loss: 33.6713 - val_mean_absolute_error: 4.6485\n",
            "Epoch 87/100\n",
            "9/9 [==============================] - 0s 8ms/step - loss: 36.8317 - mean_absolute_error: 4.7947 - val_loss: 37.6041 - val_mean_absolute_error: 5.0800\n",
            "Epoch 88/100\n",
            "9/9 [==============================] - 0s 9ms/step - loss: 41.1887 - mean_absolute_error: 5.1830 - val_loss: 60.0766 - val_mean_absolute_error: 5.9765\n",
            "Epoch 89/100\n",
            "9/9 [==============================] - 0s 8ms/step - loss: 42.7449 - mean_absolute_error: 5.3148 - val_loss: 38.9047 - val_mean_absolute_error: 4.5781\n",
            "Epoch 90/100\n",
            "9/9 [==============================] - 0s 8ms/step - loss: 34.6005 - mean_absolute_error: 4.5472 - val_loss: 35.5686 - val_mean_absolute_error: 4.8895\n",
            "Epoch 91/100\n",
            "9/9 [==============================] - 0s 8ms/step - loss: 31.4071 - mean_absolute_error: 4.3872 - val_loss: 42.8067 - val_mean_absolute_error: 5.6128\n",
            "Epoch 92/100\n",
            "9/9 [==============================] - 0s 8ms/step - loss: 39.8825 - mean_absolute_error: 5.0954 - val_loss: 45.7784 - val_mean_absolute_error: 5.0064\n",
            "Epoch 93/100\n",
            "9/9 [==============================] - 0s 8ms/step - loss: 32.9689 - mean_absolute_error: 4.4449 - val_loss: 36.4270 - val_mean_absolute_error: 4.4277\n",
            "Epoch 94/100\n",
            "9/9 [==============================] - 0s 8ms/step - loss: 32.1861 - mean_absolute_error: 4.5127 - val_loss: 35.2153 - val_mean_absolute_error: 4.8639\n",
            "Epoch 95/100\n",
            "9/9 [==============================] - 0s 8ms/step - loss: 30.1741 - mean_absolute_error: 4.3255 - val_loss: 31.5355 - val_mean_absolute_error: 4.3767\n",
            "Epoch 96/100\n",
            "9/9 [==============================] - 0s 8ms/step - loss: 30.6691 - mean_absolute_error: 4.3879 - val_loss: 34.7684 - val_mean_absolute_error: 4.3645\n",
            "Epoch 97/100\n",
            "9/9 [==============================] - 0s 8ms/step - loss: 31.3903 - mean_absolute_error: 4.3998 - val_loss: 33.3083 - val_mean_absolute_error: 4.6403\n",
            "Epoch 98/100\n",
            "9/9 [==============================] - 0s 8ms/step - loss: 28.9680 - mean_absolute_error: 4.2715 - val_loss: 33.1322 - val_mean_absolute_error: 4.5925\n",
            "Epoch 99/100\n",
            "9/9 [==============================] - 0s 8ms/step - loss: 28.4810 - mean_absolute_error: 4.2064 - val_loss: 38.5129 - val_mean_absolute_error: 5.2190\n",
            "Epoch 100/100\n",
            "9/9 [==============================] - 0s 8ms/step - loss: 28.8698 - mean_absolute_error: 4.2629 - val_loss: 32.8700 - val_mean_absolute_error: 4.2934\n"
          ]
        },
        {
          "output_type": "execute_result",
          "data": {
            "text/plain": [
              "<keras.callbacks.History at 0x7feee229be50>"
            ]
          },
          "metadata": {},
          "execution_count": 36
        }
      ]
    },
    {
      "cell_type": "code",
      "source": [
        "train_predictions = model.predict(X_train).flatten()\n",
        "\n",
        "plt.plot(dates_train, train_predictions)\n",
        "plt.plot(dates_train, y_train)\n",
        "plt.legend(['Training Predictions', 'Training Observations'])"
      ],
      "metadata": {
        "colab": {
          "base_uri": "https://localhost:8080/",
          "height": 282
        },
        "id": "8QpqrRQk9qpb",
        "outputId": "bf020156-fcad-4f95-cab0-81367e1c5d06"
      },
      "execution_count": null,
      "outputs": [
        {
          "output_type": "execute_result",
          "data": {
            "text/plain": [
              "<matplotlib.legend.Legend at 0x7feed38432d0>"
            ]
          },
          "metadata": {},
          "execution_count": 37
        },
        {
          "output_type": "display_data",
          "data": {
            "text/plain": [
              "<Figure size 432x288 with 1 Axes>"
            ],
            "image/png": "[encoded data removed]"
          },
          "metadata": {
            "needs_background": "light"
          }
        }
      ]
    },
    {
      "cell_type": "code",
      "source": [
        "val_predictions = model.predict(X_val).flatten()\n",
        "\n",
        "plt.plot(dates_val, val_predictions)\n",
        "plt.plot(dates_val, y_val)\n",
        "plt.legend(['Validation Predictions', 'Validation Observations'])"
      ],
      "metadata": {
        "colab": {
          "base_uri": "https://localhost:8080/",
          "height": 282
        },
        "id": "SM3CMWik-f6e",
        "outputId": "aefd8337-87cb-4ed3-a6f2-c181a1ffae32"
      },
      "execution_count": null,
      "outputs": [
        {
          "output_type": "execute_result",
          "data": {
            "text/plain": [
              "<matplotlib.legend.Legend at 0x7feed36bdc10>"
            ]
          },
          "metadata": {},
          "execution_count": 38
        },
        {
          "output_type": "display_data",
          "data": {
            "text/plain": [
              "<Figure size 432x288 with 1 Axes>"
            ],
            "image/png": "[encoded data removed]"
          },
          "metadata": {
            "needs_background": "light"
          }
        }
      ]
    },
    {
      "cell_type": "code",
      "source": [
        "test_predictions = model.predict(X_test).flatten()\n",
        "\n",
        "plt.plot(dates_test, test_predictions)\n",
        "plt.plot(dates_test, y_test)\n",
        "plt.legend(['Test Predictions', 'Test Observations'])"
      ],
      "metadata": {
        "colab": {
          "base_uri": "https://localhost:8080/",
          "height": 282
        },
        "id": "7Ahw91Sy-urK",
        "outputId": "bcb5d7be-6f7a-44ea-b770-130fed7fc4ac"
      },
      "execution_count": null,
      "outputs": [
        {
          "output_type": "execute_result",
          "data": {
            "text/plain": [
              "<matplotlib.legend.Legend at 0x7feed3647710>"
            ]
          },
          "metadata": {},
          "execution_count": 39
        },
        {
          "output_type": "display_data",
          "data": {
            "text/plain": [
              "<Figure size 432x288 with 1 Axes>"
            ],
            "image/png": "[encoded data removed]"
          },
          "metadata": {
            "needs_background": "light"
          }
        }
      ]
    },
    {
      "cell_type": "code",
      "source": [
        "from copy import deepcopy\n",
        "\n",
        "recursive_predictions = []\n",
        "recursive_dates = np.concatenate([dates_val, dates_test])\n",
        "\n",
        "for target_date in recursive_dates:\n",
        "  last_window = deepcopy(X_train[-1])\n",
        "  next_prediction = model.predict(np.array([last_window])).flatten()\n",
        "  recursive_predictions.append(next_prediction)\n",
        "  last_window[-1] = next_prediction"
      ],
      "metadata": {
        "id": "OmwWtzZe_Kag"
      },
      "execution_count": null,
      "outputs": []
    },
    {
      "cell_type": "code",
      "source": [
        "plt.plot(dates_train, train_predictions)\n",
        "plt.plot(dates_train, y_train)\n",
        "plt.plot(dates_val, val_predictions)\n",
        "plt.plot(dates_val, y_val)\n",
        "plt.plot(dates_test, test_predictions)\n",
        "plt.plot(dates_test, y_test)\n",
        "plt.plot(recursive_dates, recursive_predictions)\n",
        "plt.legend(['Training Predictions',\n",
        "            'Training Observations',\n",
        "            'Validation Predictions',\n",
        "            'Validation Observations',\n",
        "            'Testing Predictions',\n",
        "            'Testing Observations',\n",
        "            'Recursive Predictions'\n",
        "            ])\n"
      ],
      "metadata": {
        "colab": {
          "base_uri": "https://localhost:8080/",
          "height": 282
        },
        "id": "Urbpz8czBBBs",
        "outputId": "42e37a41-d027-461e-9fba-7a8a8308582d"
      },
      "execution_count": null,
      "outputs": [
        {
          "output_type": "execute_result",
          "data": {
            "text/plain": [
              "<matplotlib.legend.Legend at 0x7feebe070410>"
            ]
          },
          "metadata": {},
          "execution_count": 41
        },
        {
          "output_type": "display_data",
          "data": {
            "text/plain": [
              "<Figure size 432x288 with 1 Axes>"
            ],
            "image/png": "[encoded data removed]"
          },
          "metadata": {
            "needs_background": "light"
          }
        }
      ]
    },
    {
      "cell_type": "code",
      "source": [],
      "metadata": {
        "id": "AuLlnATvBrwh"
      },
      "execution_count": null,
      "outputs": []
    }
  ]
}